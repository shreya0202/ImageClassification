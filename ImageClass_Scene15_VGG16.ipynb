{
  "nbformat": 4,
  "nbformat_minor": 0,
  "metadata": {
    "kernelspec": {
      "display_name": "Python 3",
      "language": "python",
      "name": "python3"
    },
    "language_info": {
      "codemirror_mode": {
        "name": "ipython",
        "version": 3
      },
      "file_extension": ".py",
      "mimetype": "text/x-python",
      "name": "python",
      "nbconvert_exporter": "python",
      "pygments_lexer": "ipython3",
      "version": "3.5.3"
    },
    "colab": {
      "name": "ImageClass_Scene15_VGG16.ipynb",
      "provenance": [],
      "include_colab_link": true
    },
    "accelerator": "GPU"
  },
  "cells": [
    {
      "cell_type": "markdown",
      "metadata": {
        "id": "view-in-github",
        "colab_type": "text"
      },
      "source": [
        "<a href=\"https://colab.research.google.com/github/shreya0202/ImageClassification/blob/main/ImageClass_Scene15_VGG16.ipynb\" target=\"_parent\"><img src=\"https://colab.research.google.com/assets/colab-badge.svg\" alt=\"Open In Colab\"/></a>"
      ]
    },
    {
      "cell_type": "code",
      "metadata": {
        "colab": {
          "base_uri": "https://localhost:8080/"
        },
        "id": "WQh_1L7Zs9tl",
        "outputId": "69d59a20-d0f5-45fc-b2ad-4048fbfe198e"
      },
      "source": [
        "# Mounting Drive\n",
        "\n",
        "from google.colab import drive\n",
        "drive.mount('/content/drive')"
      ],
      "execution_count": null,
      "outputs": [
        {
          "output_type": "stream",
          "text": [
            "Drive already mounted at /content/drive; to attempt to forcibly remount, call drive.mount(\"/content/drive\", force_remount=True).\n"
          ],
          "name": "stdout"
        }
      ]
    },
    {
      "cell_type": "code",
      "metadata": {
        "id": "WSpT7OS7s25-"
      },
      "source": [
        "# Importing Libraries\n",
        "\n",
        "import os\n",
        "import gc\n",
        "import time\n",
        "import numpy as np\n",
        "from matplotlib import pyplot as plt\n",
        "from zipfile import ZipFile\n",
        "from PIL import Image\n",
        "from sklearn.model_selection import train_test_split\n",
        "import keras\n",
        "from keras.models import Sequential, Model\n",
        "from keras.optimizers import Adam\n",
        "from keras.preprocessing import image\n",
        "from keras.applications.vgg16 import VGG16, preprocess_input\n",
        "from keras.preprocessing.image import img_to_array, load_img\n",
        "from keras.layers import Dense, Flatten, Dropout\n",
        "from keras.callbacks import TensorBoard\n",
        "from keras.callbacks import EarlyStopping"
      ],
      "execution_count": null,
      "outputs": []
    },
    {
      "cell_type": "code",
      "metadata": {
        "id": "OhWK1Lb8s26A"
      },
      "source": [
        "# Defining Scene 15 dataset path\n",
        "\n",
        "if('scene15_dataset' not in os.listdir('/content/drive/MyDrive/')):\n",
        "    zippath = '/content/drive/MyDrive/15-Scene.zip'\n",
        "    with ZipFile(zippath, 'r') as zipref:\n",
        "        zipref.extractall('/content/drive/MyDrive/scene15_dataset')\n",
        "        \n",
        "data_path = '/content/drive/MyDrive/scene15_dataset/15-Scene/'\n",
        "os.chdir(data_path)"
      ],
      "execution_count": null,
      "outputs": []
    },
    {
      "cell_type": "code",
      "metadata": {
        "colab": {
          "base_uri": "https://localhost:8080/"
        },
        "id": "iWv93yYOs26A",
        "outputId": "7f5ce5e6-9ce9-4787-ac4e-c17ce8740f77"
      },
      "source": [
        "# Specifying total classes in dataset\n",
        "\n",
        "folders = os.listdir()\n",
        "folders.sort()\n",
        "num_classes = len(folders)\n",
        "print(\"Number of classes: {}\".format(num_classes))"
      ],
      "execution_count": null,
      "outputs": [
        {
          "output_type": "stream",
          "text": [
            "Number of classes: 15\n"
          ],
          "name": "stdout"
        }
      ]
    },
    {
      "cell_type": "code",
      "metadata": {
        "scrolled": false,
        "colab": {
          "base_uri": "https://localhost:8080/"
        },
        "id": "RiHeKMHws26A",
        "outputId": "95ee05ef-03ca-4ad0-f5f2-ec45f5209fe2"
      },
      "source": [
        "# Importing files and seperating data and labels\n",
        "\n",
        "all_images = []\n",
        "all_labels = []\n",
        "\n",
        "for i in range(15):\n",
        "    folder_path = data_path + folders[i] + '/'\n",
        "    each_folder = os.listdir(folder_path)\n",
        "    each_folder.sort()\n",
        "    num_imgs = len(each_folder)\n",
        "    folder_list = []\n",
        "    for j in range(num_imgs):\n",
        "        img_path = folder_path + each_folder[j]\n",
        "        img = Image.open(img_path)\n",
        "        img = img.resize((224, 224))\n",
        "        img = np.array(img)\n",
        "        if(len(np.shape(img)) == 2):\n",
        "            img = np.dstack((img, img, img))\n",
        "        img = preprocess_input(img)\n",
        "        all_images.append(img)\n",
        "        all_labels.append(i)\n",
        "\n",
        "    print(\"Folder {}\\tImages: {}\\tDone...\".format(i, num_imgs))\n",
        "    \n",
        "print(\"\\n======DONE======\\n\")\n",
        "print(\"Total images: {}\\t{}\".format(len(all_images), type(all_images)))\n",
        "print(\"Total labels: {}\\t{}\".format(len(all_labels), type(all_labels)))"
      ],
      "execution_count": null,
      "outputs": [
        {
          "output_type": "stream",
          "text": [
            "Folder 0\tImages: 216\tDone...\n",
            "Folder 1\tImages: 241\tDone...\n",
            "Folder 2\tImages: 311\tDone...\n",
            "Folder 3\tImages: 210\tDone...\n",
            "Folder 4\tImages: 289\tDone...\n",
            "Folder 5\tImages: 360\tDone...\n",
            "Folder 6\tImages: 328\tDone...\n",
            "Folder 7\tImages: 260\tDone...\n",
            "Folder 8\tImages: 308\tDone...\n",
            "Folder 9\tImages: 374\tDone...\n",
            "Folder 10\tImages: 410\tDone...\n",
            "Folder 11\tImages: 292\tDone...\n",
            "Folder 12\tImages: 356\tDone...\n",
            "Folder 13\tImages: 215\tDone...\n",
            "Folder 14\tImages: 315\tDone...\n",
            "\n",
            "======DONE======\n",
            "\n",
            "Total images: 4485\t<class 'list'>\n",
            "Total labels: 4485\t<class 'list'>\n"
          ],
          "name": "stdout"
        }
      ]
    },
    {
      "cell_type": "code",
      "metadata": {
        "colab": {
          "base_uri": "https://localhost:8080/"
        },
        "id": "OK7iXDOSs26A",
        "outputId": "50b785fe-144e-488d-c620-d939b06e99fd"
      },
      "source": [
        "# Converting to numpy arrays\n",
        "\n",
        "new_all_images = np.asanyarray(all_images)\n",
        "new_all_labels = np.asanyarray(all_labels)\n",
        "\n",
        "print(type(new_all_images))\n",
        "print(type(new_all_labels))"
      ],
      "execution_count": null,
      "outputs": [
        {
          "output_type": "stream",
          "text": [
            "<class 'numpy.ndarray'>\n",
            "<class 'numpy.ndarray'>\n"
          ],
          "name": "stdout"
        }
      ]
    },
    {
      "cell_type": "code",
      "metadata": {
        "colab": {
          "base_uri": "https://localhost:8080/"
        },
        "id": "c3p17BA9s26B",
        "outputId": "54c8b799-23c2-4915-f6ce-06c6f8c34fab"
      },
      "source": [
        "# Train Test Split\n",
        "\n",
        "train_data, test_data, train_labels, test_labels = train_test_split(new_all_images, new_all_labels, test_size=0.2)\n",
        "train_labels = keras.utils.to_categorical(train_labels, num_classes=15)\n",
        "test_labels = keras.utils.to_categorical(test_labels, num_classes=15)\n",
        "print(\"Train samples: {}\".format(len(train_data)))\n",
        "print(\"Train labels: {}\".format(len(train_labels)))\n",
        "print(\"Test samples: {}\".format(len(test_data)))\n",
        "print(\"Test labels: {}\".format(len(test_labels)))"
      ],
      "execution_count": null,
      "outputs": [
        {
          "output_type": "stream",
          "text": [
            "Train samples: 3588\n",
            "Train labels: 3588\n",
            "Test samples: 897\n",
            "Test labels: 897\n"
          ],
          "name": "stdout"
        }
      ]
    },
    {
      "cell_type": "code",
      "metadata": {
        "scrolled": true,
        "colab": {
          "base_uri": "https://localhost:8080/"
        },
        "id": "2dmu_ltrs26B",
        "outputId": "b2368507-d067-4f25-9c64-5c087a0183b2"
      },
      "source": [
        "# Calling VGG16 model for random weights\n",
        "\n",
        "model0 = VGG16(weights=None, input_shape=(224, 224, 3), include_top=False, classes=15)\n",
        "\n",
        "# Calling VGG16 modell for imagenet weights\n",
        "\n",
        "model1 = VGG16(weights='imagenet', input_shape=(224, 224, 3), include_top=False, classes=15)"
      ],
      "execution_count": null,
      "outputs": [
        {
          "output_type": "stream",
          "text": [
            "Downloading data from https://storage.googleapis.com/tensorflow/keras-applications/vgg16/vgg16_weights_tf_dim_ordering_tf_kernels_notop.h5\n",
            "58892288/58889256 [==============================] - 0s 0us/step\n"
          ],
          "name": "stdout"
        }
      ]
    },
    {
      "cell_type": "code",
      "metadata": {
        "id": "I7aVyNLMs26B"
      },
      "source": [
        "# Different Learning Rates for different epochs\n",
        "\n",
        "def lr_schedule(epoch):\n",
        "    if(epoch <= 10):\n",
        "        return 1e-4\n",
        "    elif(epoch <= 20):\n",
        "        return 1e-5\n",
        "    elif(epoch <= 30):\n",
        "        return 1e-6\n",
        "    else:\n",
        "        return 1e-7"
      ],
      "execution_count": null,
      "outputs": []
    },
    {
      "cell_type": "code",
      "metadata": {
        "colab": {
          "base_uri": "https://localhost:8080/"
        },
        "id": "lX-VOTN-s26B",
        "outputId": "beca4a57-b735-49da-a9b5-05233586b718"
      },
      "source": [
        "# Garbage Collection\n",
        "\n",
        "gc.collect()"
      ],
      "execution_count": null,
      "outputs": [
        {
          "output_type": "execute_result",
          "data": {
            "text/plain": [
              "624"
            ]
          },
          "metadata": {
            "tags": []
          },
          "execution_count": 22
        }
      ]
    },
    {
      "cell_type": "code",
      "metadata": {
        "scrolled": true,
        "id": "Ao7pY_eMs26B"
      },
      "source": [
        "# Creating layers for Model 0\n",
        "\n",
        "x0 = model0.get_layer('block5_pool').output\n",
        "x0 = Flatten(name='flatten')(x0)\n",
        "x0 = Dense(512, activation='relu', name='dense1')(x0)\n",
        "x0 = Dropout(0.5)(x0)\n",
        "x0 = Dense(4096, activation='relu', name='dense2')(x0)\n",
        "x0 = Dropout(0.5)(x0)\n",
        "x0 = Dense(15, activation='softmax', name='classifier')(x0)\n",
        "\n",
        "new_model_0 = Model(inputs=model0.input, outputs=x0)\n",
        "\n",
        "new_model_0.save_weights('/content/drive/MyDrive/scene_initial_model_0.h5')"
      ],
      "execution_count": null,
      "outputs": []
    },
    {
      "cell_type": "code",
      "metadata": {
        "colab": {
          "base_uri": "https://localhost:8080/"
        },
        "id": "GlHG5Jh9J2Cu",
        "outputId": "afc726dc-752d-430f-9eac-f5803c8cd946"
      },
      "source": [
        "# Model 0 Summary\n",
        "\n",
        "new_model_0.summary()"
      ],
      "execution_count": null,
      "outputs": [
        {
          "output_type": "stream",
          "text": [
            "Model: \"functional_1\"\n",
            "_________________________________________________________________\n",
            "Layer (type)                 Output Shape              Param #   \n",
            "=================================================================\n",
            "input_1 (InputLayer)         [(None, 224, 224, 3)]     0         \n",
            "_________________________________________________________________\n",
            "block1_conv1 (Conv2D)        (None, 224, 224, 64)      1792      \n",
            "_________________________________________________________________\n",
            "block1_conv2 (Conv2D)        (None, 224, 224, 64)      36928     \n",
            "_________________________________________________________________\n",
            "block1_pool (MaxPooling2D)   (None, 112, 112, 64)      0         \n",
            "_________________________________________________________________\n",
            "block2_conv1 (Conv2D)        (None, 112, 112, 128)     73856     \n",
            "_________________________________________________________________\n",
            "block2_conv2 (Conv2D)        (None, 112, 112, 128)     147584    \n",
            "_________________________________________________________________\n",
            "block2_pool (MaxPooling2D)   (None, 56, 56, 128)       0         \n",
            "_________________________________________________________________\n",
            "block3_conv1 (Conv2D)        (None, 56, 56, 256)       295168    \n",
            "_________________________________________________________________\n",
            "block3_conv2 (Conv2D)        (None, 56, 56, 256)       590080    \n",
            "_________________________________________________________________\n",
            "block3_conv3 (Conv2D)        (None, 56, 56, 256)       590080    \n",
            "_________________________________________________________________\n",
            "block3_pool (MaxPooling2D)   (None, 28, 28, 256)       0         \n",
            "_________________________________________________________________\n",
            "block4_conv1 (Conv2D)        (None, 28, 28, 512)       1180160   \n",
            "_________________________________________________________________\n",
            "block4_conv2 (Conv2D)        (None, 28, 28, 512)       2359808   \n",
            "_________________________________________________________________\n",
            "block4_conv3 (Conv2D)        (None, 28, 28, 512)       2359808   \n",
            "_________________________________________________________________\n",
            "block4_pool (MaxPooling2D)   (None, 14, 14, 512)       0         \n",
            "_________________________________________________________________\n",
            "block5_conv1 (Conv2D)        (None, 14, 14, 512)       2359808   \n",
            "_________________________________________________________________\n",
            "block5_conv2 (Conv2D)        (None, 14, 14, 512)       2359808   \n",
            "_________________________________________________________________\n",
            "block5_conv3 (Conv2D)        (None, 14, 14, 512)       2359808   \n",
            "_________________________________________________________________\n",
            "block5_pool (MaxPooling2D)   (None, 7, 7, 512)         0         \n",
            "_________________________________________________________________\n",
            "flatten (Flatten)            (None, 25088)             0         \n",
            "_________________________________________________________________\n",
            "dense1 (Dense)               (None, 512)               12845568  \n",
            "_________________________________________________________________\n",
            "dropout (Dropout)            (None, 512)               0         \n",
            "_________________________________________________________________\n",
            "dense2 (Dense)               (None, 4096)              2101248   \n",
            "_________________________________________________________________\n",
            "dropout_1 (Dropout)          (None, 4096)              0         \n",
            "_________________________________________________________________\n",
            "classifier (Dense)           (None, 15)                61455     \n",
            "=================================================================\n",
            "Total params: 29,722,959\n",
            "Trainable params: 29,722,959\n",
            "Non-trainable params: 0\n",
            "_________________________________________________________________\n"
          ],
          "name": "stdout"
        }
      ]
    },
    {
      "cell_type": "code",
      "metadata": {
        "id": "qU4EadWPJz9w"
      },
      "source": [
        "# Creating layers for Model 1\n",
        "\n",
        "x1 = model1.get_layer('block5_pool').output\n",
        "x1 = Flatten(name='flatten')(x1)\n",
        "x1 = Dense(512, activation='relu', name='dense1')(x1)\n",
        "x1 = Dropout(0.5)(x1)\n",
        "x1 = Dense(4096, activation='relu', name='dense2')(x1)\n",
        "x1 = Dropout(0.5)(x1)\n",
        "x1 = Dense(15, activation='softmax', name='classifier')(x1)\n",
        "\n",
        "new_model_1 = Model(inputs=model1.input, outputs=x1)\n",
        "\n",
        "new_model_1.save_weights('/content/drive/MyDrive/scene_initial_model_1.h5')"
      ],
      "execution_count": null,
      "outputs": []
    },
    {
      "cell_type": "code",
      "metadata": {
        "colab": {
          "base_uri": "https://localhost:8080/"
        },
        "id": "ebVDQId2J7O4",
        "outputId": "3b913030-d04f-446e-b97d-947b9a603eb5"
      },
      "source": [
        "# Model 1 summary\n",
        "\n",
        "new_model_1.summary()"
      ],
      "execution_count": null,
      "outputs": [
        {
          "output_type": "stream",
          "text": [
            "Model: \"functional_3\"\n",
            "_________________________________________________________________\n",
            "Layer (type)                 Output Shape              Param #   \n",
            "=================================================================\n",
            "input_2 (InputLayer)         [(None, 224, 224, 3)]     0         \n",
            "_________________________________________________________________\n",
            "block1_conv1 (Conv2D)        (None, 224, 224, 64)      1792      \n",
            "_________________________________________________________________\n",
            "block1_conv2 (Conv2D)        (None, 224, 224, 64)      36928     \n",
            "_________________________________________________________________\n",
            "block1_pool (MaxPooling2D)   (None, 112, 112, 64)      0         \n",
            "_________________________________________________________________\n",
            "block2_conv1 (Conv2D)        (None, 112, 112, 128)     73856     \n",
            "_________________________________________________________________\n",
            "block2_conv2 (Conv2D)        (None, 112, 112, 128)     147584    \n",
            "_________________________________________________________________\n",
            "block2_pool (MaxPooling2D)   (None, 56, 56, 128)       0         \n",
            "_________________________________________________________________\n",
            "block3_conv1 (Conv2D)        (None, 56, 56, 256)       295168    \n",
            "_________________________________________________________________\n",
            "block3_conv2 (Conv2D)        (None, 56, 56, 256)       590080    \n",
            "_________________________________________________________________\n",
            "block3_conv3 (Conv2D)        (None, 56, 56, 256)       590080    \n",
            "_________________________________________________________________\n",
            "block3_pool (MaxPooling2D)   (None, 28, 28, 256)       0         \n",
            "_________________________________________________________________\n",
            "block4_conv1 (Conv2D)        (None, 28, 28, 512)       1180160   \n",
            "_________________________________________________________________\n",
            "block4_conv2 (Conv2D)        (None, 28, 28, 512)       2359808   \n",
            "_________________________________________________________________\n",
            "block4_conv3 (Conv2D)        (None, 28, 28, 512)       2359808   \n",
            "_________________________________________________________________\n",
            "block4_pool (MaxPooling2D)   (None, 14, 14, 512)       0         \n",
            "_________________________________________________________________\n",
            "block5_conv1 (Conv2D)        (None, 14, 14, 512)       2359808   \n",
            "_________________________________________________________________\n",
            "block5_conv2 (Conv2D)        (None, 14, 14, 512)       2359808   \n",
            "_________________________________________________________________\n",
            "block5_conv3 (Conv2D)        (None, 14, 14, 512)       2359808   \n",
            "_________________________________________________________________\n",
            "block5_pool (MaxPooling2D)   (None, 7, 7, 512)         0         \n",
            "_________________________________________________________________\n",
            "flatten (Flatten)            (None, 25088)             0         \n",
            "_________________________________________________________________\n",
            "dense1 (Dense)               (None, 512)               12845568  \n",
            "_________________________________________________________________\n",
            "dropout_2 (Dropout)          (None, 512)               0         \n",
            "_________________________________________________________________\n",
            "dense2 (Dense)               (None, 4096)              2101248   \n",
            "_________________________________________________________________\n",
            "dropout_3 (Dropout)          (None, 4096)              0         \n",
            "_________________________________________________________________\n",
            "classifier (Dense)           (None, 15)                61455     \n",
            "=================================================================\n",
            "Total params: 29,722,959\n",
            "Trainable params: 29,722,959\n",
            "Non-trainable params: 0\n",
            "_________________________________________________________________\n"
          ],
          "name": "stdout"
        }
      ]
    },
    {
      "cell_type": "code",
      "metadata": {
        "id": "d_gFqI3Us26A"
      },
      "source": [
        "# Creating Log files for Model 0 and Model 1\n",
        "\n",
        "tensorboard_model0_scene = TensorBoard(log_dir='/content/drive/MyDrive/logs_scene/model_0/{}'.format(time.time()))\n",
        "tensorboard_model1_scene = TensorBoard(log_dir='/content/drive/MyDrive/logs_scene/model_1/{}'.format(time.time()))"
      ],
      "execution_count": null,
      "outputs": []
    },
    {
      "cell_type": "code",
      "metadata": {
        "scrolled": false,
        "colab": {
          "base_uri": "https://localhost:8080/"
        },
        "id": "UFTUtE6fs26B",
        "outputId": "cee854d5-cf48-4d98-f359-63dadf02d55f"
      },
      "source": [
        "# Training and Testing Model 0 for VGG16 with random weights\n",
        "\n",
        "training_runs_model0 = []\n",
        "\n",
        "for i in range(3):\n",
        "    new_model_0.compile(optimizer=keras.optimizers.Adam(lr=0.0001), loss='categorical_crossentropy', metrics=['acc'])\n",
        "    keras.callbacks.LearningRateScheduler(lr_schedule)\n",
        "    print(\"Training Run #{}\\n\".format(i+1))\n",
        "    model_history = new_model_0.fit(train_data, train_labels, shuffle=True, batch_size=64, epochs=20, verbose=1, validation_data=(test_data, test_labels), callbacks=[tensorboard_model0_scene])\n",
        "    training_runs_model0.append(model_history)\n",
        "    new_model_0.get_weights()\n",
        "    if(i == 2):\n",
        "        new_model_0.save_weights('scene_final_model_0.h5')\n",
        "    else:\n",
        "        new_model_0.load_weights('scene_initial_model_0.h5')\n",
        "    print(\"\\n\\n\")"
      ],
      "execution_count": null,
      "outputs": [
        {
          "output_type": "stream",
          "text": [
            "Training Run #1\n",
            "\n",
            "Epoch 1/20\n",
            " 1/57 [..............................] - ETA: 0s - loss: 2.7860 - acc: 0.0625WARNING:tensorflow:From /usr/local/lib/python3.6/dist-packages/tensorflow/python/ops/summary_ops_v2.py:1277: stop (from tensorflow.python.eager.profiler) is deprecated and will be removed after 2020-07-01.\n",
            "Instructions for updating:\n",
            "use `tf.profiler.experimental.stop` instead.\n",
            " 2/57 [>.............................] - ETA: 26s - loss: 2.7246 - acc: 0.0703WARNING:tensorflow:Callbacks method `on_train_batch_end` is slow compared to the batch time (batch time: 0.2588s vs `on_train_batch_end` time: 0.6839s). Check your callbacks.\n",
            "57/57 [==============================] - 49s 853ms/step - loss: 2.6878 - acc: 0.0833 - val_loss: 2.5698 - val_acc: 0.1070\n",
            "Epoch 2/20\n",
            "57/57 [==============================] - 51s 889ms/step - loss: 2.4952 - acc: 0.1511 - val_loss: 2.2756 - val_acc: 0.2408\n",
            "Epoch 3/20\n",
            "57/57 [==============================] - 50s 881ms/step - loss: 2.2281 - acc: 0.2609 - val_loss: 2.7983 - val_acc: 0.1427\n",
            "Epoch 4/20\n",
            "57/57 [==============================] - 50s 884ms/step - loss: 2.1670 - acc: 0.2862 - val_loss: 1.8087 - val_acc: 0.3913\n",
            "Epoch 5/20\n",
            "57/57 [==============================] - 50s 880ms/step - loss: 1.8987 - acc: 0.3813 - val_loss: 1.6754 - val_acc: 0.4426\n",
            "Epoch 6/20\n",
            "57/57 [==============================] - 50s 885ms/step - loss: 1.6254 - acc: 0.4624 - val_loss: 1.4064 - val_acc: 0.5329\n",
            "Epoch 7/20\n",
            "57/57 [==============================] - 50s 881ms/step - loss: 1.5499 - acc: 0.4889 - val_loss: 1.3241 - val_acc: 0.5507\n",
            "Epoch 8/20\n",
            "57/57 [==============================] - 50s 882ms/step - loss: 1.3396 - acc: 0.5449 - val_loss: 1.3388 - val_acc: 0.5652\n",
            "Epoch 9/20\n",
            "57/57 [==============================] - 50s 882ms/step - loss: 1.2560 - acc: 0.5805 - val_loss: 1.2504 - val_acc: 0.6009\n",
            "Epoch 10/20\n",
            "57/57 [==============================] - 50s 884ms/step - loss: 1.1321 - acc: 0.6148 - val_loss: 1.2539 - val_acc: 0.5864\n",
            "Epoch 11/20\n",
            "57/57 [==============================] - 50s 884ms/step - loss: 0.9877 - acc: 0.6597 - val_loss: 1.2275 - val_acc: 0.5897\n",
            "Epoch 12/20\n",
            "57/57 [==============================] - 50s 883ms/step - loss: 0.9422 - acc: 0.6753 - val_loss: 1.2122 - val_acc: 0.6042\n",
            "Epoch 13/20\n",
            "57/57 [==============================] - 50s 882ms/step - loss: 0.8448 - acc: 0.7149 - val_loss: 0.9965 - val_acc: 0.6745\n",
            "Epoch 14/20\n",
            "57/57 [==============================] - 50s 884ms/step - loss: 0.6620 - acc: 0.7737 - val_loss: 0.9783 - val_acc: 0.6767\n",
            "Epoch 15/20\n",
            "57/57 [==============================] - 51s 888ms/step - loss: 0.5780 - acc: 0.8035 - val_loss: 1.1808 - val_acc: 0.6466\n",
            "Epoch 16/20\n",
            "57/57 [==============================] - 50s 883ms/step - loss: 0.7386 - acc: 0.7539 - val_loss: 1.0273 - val_acc: 0.6767\n",
            "Epoch 17/20\n",
            "57/57 [==============================] - 50s 882ms/step - loss: 0.4433 - acc: 0.8442 - val_loss: 1.2671 - val_acc: 0.6388\n",
            "Epoch 18/20\n",
            "57/57 [==============================] - 50s 883ms/step - loss: 0.3254 - acc: 0.8894 - val_loss: 1.1858 - val_acc: 0.6722\n",
            "Epoch 19/20\n",
            "57/57 [==============================] - 50s 882ms/step - loss: 0.2839 - acc: 0.9036 - val_loss: 1.1880 - val_acc: 0.6656\n",
            "Epoch 20/20\n",
            "57/57 [==============================] - 50s 883ms/step - loss: 0.2993 - acc: 0.8972 - val_loss: 1.4076 - val_acc: 0.6644\n",
            "\n",
            "\n",
            "\n",
            "Training Run #2\n",
            "\n",
            "Epoch 1/20\n",
            " 2/57 [>.............................] - ETA: 42s - loss: 2.7366 - acc: 0.0781WARNING:tensorflow:Callbacks method `on_train_batch_end` is slow compared to the batch time (batch time: 0.2704s vs `on_train_batch_end` time: 0.7226s). Check your callbacks.\n",
            "57/57 [==============================] - 51s 895ms/step - loss: 2.6893 - acc: 0.0711 - val_loss: 2.6933 - val_acc: 0.1405\n",
            "Epoch 2/20\n",
            "57/57 [==============================] - 50s 873ms/step - loss: 2.6612 - acc: 0.0917 - val_loss: 2.5232 - val_acc: 0.1360\n",
            "Epoch 3/20\n",
            "57/57 [==============================] - 50s 879ms/step - loss: 2.4383 - acc: 0.1865 - val_loss: 2.4127 - val_acc: 0.1962\n",
            "Epoch 4/20\n",
            "57/57 [==============================] - 50s 876ms/step - loss: 2.2075 - acc: 0.2678 - val_loss: 2.0044 - val_acc: 0.3389\n",
            "Epoch 5/20\n",
            "57/57 [==============================] - 50s 879ms/step - loss: 1.9096 - acc: 0.3685 - val_loss: 1.6894 - val_acc: 0.4649\n",
            "Epoch 6/20\n",
            "57/57 [==============================] - 50s 879ms/step - loss: 1.6543 - acc: 0.4431 - val_loss: 1.5804 - val_acc: 0.4916\n",
            "Epoch 7/20\n",
            "57/57 [==============================] - 50s 880ms/step - loss: 1.4594 - acc: 0.5092 - val_loss: 1.5674 - val_acc: 0.4749\n",
            "Epoch 8/20\n",
            "57/57 [==============================] - 50s 879ms/step - loss: 1.3371 - acc: 0.5541 - val_loss: 1.2978 - val_acc: 0.5641\n",
            "Epoch 9/20\n",
            "57/57 [==============================] - 50s 880ms/step - loss: 1.2690 - acc: 0.5814 - val_loss: 1.1666 - val_acc: 0.5975\n",
            "Epoch 10/20\n",
            "57/57 [==============================] - 50s 879ms/step - loss: 1.0989 - acc: 0.6318 - val_loss: 1.0882 - val_acc: 0.6288\n",
            "Epoch 11/20\n",
            "57/57 [==============================] - 50s 881ms/step - loss: 0.9695 - acc: 0.6697 - val_loss: 1.0827 - val_acc: 0.6210\n",
            "Epoch 12/20\n",
            "57/57 [==============================] - 50s 882ms/step - loss: 0.8237 - acc: 0.7179 - val_loss: 1.1751 - val_acc: 0.6221\n",
            "Epoch 13/20\n",
            "57/57 [==============================] - 50s 884ms/step - loss: 0.7412 - acc: 0.7455 - val_loss: 0.9828 - val_acc: 0.6577\n",
            "Epoch 14/20\n",
            "57/57 [==============================] - 50s 884ms/step - loss: 0.6591 - acc: 0.7703 - val_loss: 1.1579 - val_acc: 0.6477\n",
            "Epoch 15/20\n",
            "57/57 [==============================] - 50s 883ms/step - loss: 0.5256 - acc: 0.8119 - val_loss: 1.2058 - val_acc: 0.6410\n",
            "Epoch 16/20\n",
            "57/57 [==============================] - 50s 883ms/step - loss: 0.4475 - acc: 0.8423 - val_loss: 1.2494 - val_acc: 0.6622\n",
            "Epoch 17/20\n",
            "57/57 [==============================] - 50s 883ms/step - loss: 0.3733 - acc: 0.8771 - val_loss: 1.1103 - val_acc: 0.6834\n",
            "Epoch 18/20\n",
            "57/57 [==============================] - 50s 884ms/step - loss: 0.3168 - acc: 0.8999 - val_loss: 1.3991 - val_acc: 0.6433\n",
            "Epoch 19/20\n",
            "57/57 [==============================] - 50s 882ms/step - loss: 0.3403 - acc: 0.8849 - val_loss: 1.2589 - val_acc: 0.6600\n",
            "Epoch 20/20\n",
            "57/57 [==============================] - 50s 882ms/step - loss: 0.2475 - acc: 0.9142 - val_loss: 1.3053 - val_acc: 0.6544\n",
            "\n",
            "\n",
            "\n",
            "Training Run #3\n",
            "\n",
            "Epoch 1/20\n",
            " 2/57 [>.............................] - ETA: 45s - loss: 2.7630 - acc: 0.0625WARNING:tensorflow:Callbacks method `on_train_batch_end` is slow compared to the batch time (batch time: 0.2751s vs `on_train_batch_end` time: 0.7955s). Check your callbacks.\n",
            "57/57 [==============================] - 51s 895ms/step - loss: 2.6569 - acc: 0.0850 - val_loss: 2.5245 - val_acc: 0.1750\n",
            "Epoch 2/20\n",
            "57/57 [==============================] - 50s 882ms/step - loss: 2.4343 - acc: 0.1845 - val_loss: 2.2599 - val_acc: 0.2664\n",
            "Epoch 3/20\n",
            "57/57 [==============================] - 50s 885ms/step - loss: 2.1484 - acc: 0.2879 - val_loss: 1.8118 - val_acc: 0.4047\n",
            "Epoch 4/20\n",
            "57/57 [==============================] - 51s 886ms/step - loss: 1.8214 - acc: 0.3986 - val_loss: 1.6031 - val_acc: 0.4560\n",
            "Epoch 5/20\n",
            "57/57 [==============================] - 50s 885ms/step - loss: 1.6363 - acc: 0.4509 - val_loss: 1.6167 - val_acc: 0.4493\n",
            "Epoch 6/20\n",
            "57/57 [==============================] - 50s 884ms/step - loss: 1.4687 - acc: 0.5092 - val_loss: 1.5949 - val_acc: 0.5017\n",
            "Epoch 7/20\n",
            "57/57 [==============================] - 50s 885ms/step - loss: 1.3168 - acc: 0.5577 - val_loss: 1.3056 - val_acc: 0.5585\n",
            "Epoch 8/20\n",
            "57/57 [==============================] - 50s 886ms/step - loss: 1.1720 - acc: 0.6028 - val_loss: 1.1453 - val_acc: 0.6165\n",
            "Epoch 9/20\n",
            "57/57 [==============================] - 50s 886ms/step - loss: 1.0050 - acc: 0.6611 - val_loss: 1.0397 - val_acc: 0.6611\n",
            "Epoch 10/20\n",
            "57/57 [==============================] - 50s 884ms/step - loss: 0.9712 - acc: 0.6692 - val_loss: 1.0996 - val_acc: 0.6276\n",
            "Epoch 11/20\n",
            "57/57 [==============================] - 50s 884ms/step - loss: 0.7956 - acc: 0.7271 - val_loss: 0.9418 - val_acc: 0.6812\n",
            "Epoch 12/20\n",
            "57/57 [==============================] - 50s 885ms/step - loss: 0.7245 - acc: 0.7486 - val_loss: 1.0552 - val_acc: 0.6600\n",
            "Epoch 13/20\n",
            "57/57 [==============================] - 50s 883ms/step - loss: 0.6022 - acc: 0.7846 - val_loss: 1.2610 - val_acc: 0.6243\n",
            "Epoch 14/20\n",
            "57/57 [==============================] - 50s 883ms/step - loss: 0.6554 - acc: 0.7756 - val_loss: 1.0422 - val_acc: 0.6778\n",
            "Epoch 15/20\n",
            "57/57 [==============================] - 50s 886ms/step - loss: 0.4895 - acc: 0.8247 - val_loss: 1.0506 - val_acc: 0.6745\n",
            "Epoch 16/20\n",
            "57/57 [==============================] - 51s 887ms/step - loss: 0.3731 - acc: 0.8732 - val_loss: 1.2836 - val_acc: 0.6678\n",
            "Epoch 17/20\n",
            "57/57 [==============================] - 50s 884ms/step - loss: 0.3408 - acc: 0.8860 - val_loss: 1.2158 - val_acc: 0.6867\n",
            "Epoch 18/20\n",
            "57/57 [==============================] - 50s 885ms/step - loss: 0.2387 - acc: 0.9192 - val_loss: 1.2106 - val_acc: 0.6756\n",
            "Epoch 19/20\n",
            "57/57 [==============================] - 50s 884ms/step - loss: 0.2199 - acc: 0.9247 - val_loss: 1.3699 - val_acc: 0.6845\n",
            "Epoch 20/20\n",
            "57/57 [==============================] - 50s 885ms/step - loss: 0.2112 - acc: 0.9270 - val_loss: 1.4101 - val_acc: 0.6812\n",
            "\n",
            "\n",
            "\n"
          ],
          "name": "stdout"
        }
      ]
    },
    {
      "cell_type": "code",
      "metadata": {
        "scrolled": false,
        "colab": {
          "base_uri": "https://localhost:8080/"
        },
        "id": "fM98uMoks26B",
        "outputId": "2853de4d-8274-478e-c5d1-3574d6389a14"
      },
      "source": [
        "# Training and Testing Model 1 for VGG16 with imagenet weights\n",
        "\n",
        "training_runs_model1 = []\n",
        "\n",
        "for i in range(3):\n",
        "    new_model_1.compile(optimizer=keras.optimizers.Adam(lr=0.0001), loss='categorical_crossentropy', metrics=['acc'])\n",
        "    keras.callbacks.LearningRateScheduler(lr_schedule)\n",
        "    print(\"Training Run #{}\\n\".format(i+1))\n",
        "    model_history = new_model_1.fit(train_data, train_labels, shuffle=True, batch_size=64, epochs=20, verbose=1, validation_data=(test_data, test_labels), callbacks=[tensorboard_model1_scene])\n",
        "    training_runs_model1.append(model_history)\n",
        "    new_model_1.get_weights()\n",
        "    if(i == 2):\n",
        "        new_model_1.save_weights('/content/drive/MyDrive/scene_final_model_1.h5')\n",
        "    else:\n",
        "        new_model_1.load_weights('/content/drive/MyDrive/scene_initial_model_1.h5')\n",
        "    print(\"\\n\\n\")"
      ],
      "execution_count": null,
      "outputs": [
        {
          "output_type": "stream",
          "text": [
            "Training Run #1\n",
            "\n",
            "Epoch 1/20\n",
            " 2/57 [>.............................] - ETA: 42s - loss: 7.1188 - acc: 0.0547 WARNING:tensorflow:Callbacks method `on_train_batch_end` is slow compared to the batch time (batch time: 0.2641s vs `on_train_batch_end` time: 0.7310s). Check your callbacks.\n",
            "57/57 [==============================] - 52s 913ms/step - loss: 2.4806 - acc: 0.2166 - val_loss: 1.8037 - val_acc: 0.3980\n",
            "Epoch 2/20\n",
            "57/57 [==============================] - 51s 888ms/step - loss: 1.5095 - acc: 0.4838 - val_loss: 1.1978 - val_acc: 0.5931\n",
            "Epoch 3/20\n",
            "57/57 [==============================] - 51s 901ms/step - loss: 1.1139 - acc: 0.6118 - val_loss: 0.8008 - val_acc: 0.7179\n",
            "Epoch 4/20\n",
            "57/57 [==============================] - 51s 898ms/step - loss: 0.8690 - acc: 0.7018 - val_loss: 0.8400 - val_acc: 0.7469\n",
            "Epoch 5/20\n",
            "57/57 [==============================] - 51s 898ms/step - loss: 0.6373 - acc: 0.7809 - val_loss: 0.5997 - val_acc: 0.7882\n",
            "Epoch 6/20\n",
            "57/57 [==============================] - 51s 895ms/step - loss: 0.5201 - acc: 0.8202 - val_loss: 0.5732 - val_acc: 0.8094\n",
            "Epoch 7/20\n",
            "57/57 [==============================] - 51s 899ms/step - loss: 0.4021 - acc: 0.8590 - val_loss: 0.5066 - val_acc: 0.8450\n",
            "Epoch 8/20\n",
            "57/57 [==============================] - 51s 898ms/step - loss: 0.3386 - acc: 0.8841 - val_loss: 0.5077 - val_acc: 0.8339\n",
            "Epoch 9/20\n",
            "57/57 [==============================] - 51s 894ms/step - loss: 0.2618 - acc: 0.9125 - val_loss: 0.5363 - val_acc: 0.8450\n",
            "Epoch 10/20\n",
            "57/57 [==============================] - 51s 892ms/step - loss: 0.2108 - acc: 0.9281 - val_loss: 0.5301 - val_acc: 0.8562\n",
            "Epoch 11/20\n",
            "57/57 [==============================] - 51s 897ms/step - loss: 0.1891 - acc: 0.9376 - val_loss: 0.5343 - val_acc: 0.8473\n",
            "Epoch 12/20\n",
            "57/57 [==============================] - 51s 899ms/step - loss: 0.1561 - acc: 0.9468 - val_loss: 0.5113 - val_acc: 0.8696\n",
            "Epoch 13/20\n",
            "57/57 [==============================] - 51s 899ms/step - loss: 0.1133 - acc: 0.9613 - val_loss: 0.6266 - val_acc: 0.8573\n",
            "Epoch 14/20\n",
            "57/57 [==============================] - 51s 898ms/step - loss: 0.1001 - acc: 0.9688 - val_loss: 0.6673 - val_acc: 0.8361\n",
            "Epoch 15/20\n",
            "57/57 [==============================] - 51s 897ms/step - loss: 0.1016 - acc: 0.9691 - val_loss: 0.5810 - val_acc: 0.8651\n",
            "Epoch 16/20\n",
            "57/57 [==============================] - 51s 898ms/step - loss: 0.0946 - acc: 0.9688 - val_loss: 0.7431 - val_acc: 0.8294\n",
            "Epoch 17/20\n",
            "57/57 [==============================] - 51s 897ms/step - loss: 0.1884 - acc: 0.9429 - val_loss: 0.9478 - val_acc: 0.7949\n",
            "Epoch 18/20\n",
            "57/57 [==============================] - 51s 893ms/step - loss: 0.4941 - acc: 0.8520 - val_loss: 0.5197 - val_acc: 0.8584\n",
            "Epoch 19/20\n",
            "57/57 [==============================] - 51s 894ms/step - loss: 0.1237 - acc: 0.9618 - val_loss: 0.6528 - val_acc: 0.8484\n",
            "Epoch 20/20\n",
            "57/57 [==============================] - 51s 897ms/step - loss: 0.0740 - acc: 0.9766 - val_loss: 0.7555 - val_acc: 0.8439\n",
            "\n",
            "\n",
            "\n",
            "Training Run #2\n",
            "\n",
            "Epoch 1/20\n",
            " 2/57 [>.............................] - ETA: 42s - loss: 7.6541 - acc: 0.0391 WARNING:tensorflow:Callbacks method `on_train_batch_end` is slow compared to the batch time (batch time: 0.2698s vs `on_train_batch_end` time: 0.7079s). Check your callbacks.\n",
            "57/57 [==============================] - 51s 897ms/step - loss: 2.6473 - acc: 0.1616 - val_loss: 2.7226 - val_acc: 0.2007\n",
            "Epoch 2/20\n",
            "57/57 [==============================] - 50s 885ms/step - loss: 1.7827 - acc: 0.4005 - val_loss: 1.3003 - val_acc: 0.5452\n",
            "Epoch 3/20\n",
            "57/57 [==============================] - 51s 891ms/step - loss: 1.2009 - acc: 0.5886 - val_loss: 0.9764 - val_acc: 0.6722\n",
            "Epoch 4/20\n",
            "57/57 [==============================] - 51s 889ms/step - loss: 0.8356 - acc: 0.7132 - val_loss: 0.8894 - val_acc: 0.7046\n",
            "Epoch 5/20\n",
            "57/57 [==============================] - 51s 890ms/step - loss: 0.7508 - acc: 0.7411 - val_loss: 0.7866 - val_acc: 0.7480\n",
            "Epoch 6/20\n",
            "57/57 [==============================] - 51s 891ms/step - loss: 0.6178 - acc: 0.7865 - val_loss: 0.5454 - val_acc: 0.8038\n",
            "Epoch 7/20\n",
            "57/57 [==============================] - 51s 890ms/step - loss: 0.4530 - acc: 0.8389 - val_loss: 0.7770 - val_acc: 0.7793\n",
            "Epoch 8/20\n",
            "57/57 [==============================] - 51s 890ms/step - loss: 0.5812 - acc: 0.8066 - val_loss: 0.6353 - val_acc: 0.7938\n",
            "Epoch 9/20\n",
            "57/57 [==============================] - 51s 889ms/step - loss: 0.3633 - acc: 0.8832 - val_loss: 0.7422 - val_acc: 0.7614\n",
            "Epoch 10/20\n",
            "57/57 [==============================] - 51s 890ms/step - loss: 0.3597 - acc: 0.8810 - val_loss: 0.4814 - val_acc: 0.8406\n",
            "Epoch 11/20\n",
            "57/57 [==============================] - 51s 891ms/step - loss: 0.2273 - acc: 0.9197 - val_loss: 0.5399 - val_acc: 0.8439\n",
            "Epoch 12/20\n",
            "57/57 [==============================] - 51s 893ms/step - loss: 0.1929 - acc: 0.9362 - val_loss: 0.5348 - val_acc: 0.8395\n",
            "Epoch 13/20\n",
            "57/57 [==============================] - 51s 891ms/step - loss: 0.1833 - acc: 0.9390 - val_loss: 0.6012 - val_acc: 0.8406\n",
            "Epoch 14/20\n",
            "57/57 [==============================] - 51s 893ms/step - loss: 0.1000 - acc: 0.9693 - val_loss: 0.5496 - val_acc: 0.8618\n",
            "Epoch 15/20\n",
            "57/57 [==============================] - 51s 894ms/step - loss: 0.0848 - acc: 0.9746 - val_loss: 0.5464 - val_acc: 0.8551\n",
            "Epoch 16/20\n",
            "57/57 [==============================] - 51s 893ms/step - loss: 0.0798 - acc: 0.9741 - val_loss: 0.8670 - val_acc: 0.8317\n",
            "Epoch 17/20\n",
            "57/57 [==============================] - 51s 892ms/step - loss: 0.1296 - acc: 0.9649 - val_loss: 0.6320 - val_acc: 0.8194\n",
            "Epoch 18/20\n",
            "57/57 [==============================] - 51s 892ms/step - loss: 0.1255 - acc: 0.9576 - val_loss: 0.5704 - val_acc: 0.8462\n",
            "Epoch 19/20\n",
            "57/57 [==============================] - 51s 889ms/step - loss: 0.0740 - acc: 0.9769 - val_loss: 0.7908 - val_acc: 0.8294\n",
            "Epoch 20/20\n",
            "57/57 [==============================] - 51s 889ms/step - loss: 0.0940 - acc: 0.9738 - val_loss: 0.5553 - val_acc: 0.8450\n",
            "\n",
            "\n",
            "\n",
            "Training Run #3\n",
            "\n",
            "Epoch 1/20\n",
            " 2/57 [>.............................] - ETA: 42s - loss: 7.0936 - acc: 0.0703 WARNING:tensorflow:Callbacks method `on_train_batch_end` is slow compared to the batch time (batch time: 0.2628s vs `on_train_batch_end` time: 0.6918s). Check your callbacks.\n",
            "57/57 [==============================] - 51s 897ms/step - loss: 2.5913 - acc: 0.1878 - val_loss: 1.6388 - val_acc: 0.4426\n",
            "Epoch 2/20\n",
            "57/57 [==============================] - 51s 892ms/step - loss: 1.5124 - acc: 0.4894 - val_loss: 3.2982 - val_acc: 0.3980\n",
            "Epoch 3/20\n",
            "57/57 [==============================] - 51s 894ms/step - loss: 1.3140 - acc: 0.5647 - val_loss: 0.9466 - val_acc: 0.6767\n",
            "Epoch 4/20\n",
            "57/57 [==============================] - 51s 897ms/step - loss: 0.8553 - acc: 0.7001 - val_loss: 0.7417 - val_acc: 0.7592\n",
            "Epoch 5/20\n",
            "57/57 [==============================] - 51s 898ms/step - loss: 0.7219 - acc: 0.7486 - val_loss: 0.7797 - val_acc: 0.7681\n",
            "Epoch 6/20\n",
            "57/57 [==============================] - 51s 898ms/step - loss: 0.5291 - acc: 0.8205 - val_loss: 0.7437 - val_acc: 0.7770\n",
            "Epoch 7/20\n",
            "57/57 [==============================] - 51s 897ms/step - loss: 0.6166 - acc: 0.7979 - val_loss: 0.5636 - val_acc: 0.8294\n",
            "Epoch 8/20\n",
            "57/57 [==============================] - 51s 897ms/step - loss: 0.4382 - acc: 0.8542 - val_loss: 0.5521 - val_acc: 0.8227\n",
            "Epoch 9/20\n",
            "57/57 [==============================] - 51s 899ms/step - loss: 0.3129 - acc: 0.8924 - val_loss: 0.6144 - val_acc: 0.8350\n",
            "Epoch 10/20\n",
            "57/57 [==============================] - 51s 896ms/step - loss: 0.3669 - acc: 0.8687 - val_loss: 0.5564 - val_acc: 0.8406\n",
            "Epoch 11/20\n",
            "57/57 [==============================] - 51s 898ms/step - loss: 0.1999 - acc: 0.9259 - val_loss: 0.4403 - val_acc: 0.8729\n",
            "Epoch 12/20\n",
            "57/57 [==============================] - 51s 899ms/step - loss: 0.1999 - acc: 0.9306 - val_loss: 0.5887 - val_acc: 0.8551\n",
            "Epoch 13/20\n",
            "57/57 [==============================] - 51s 899ms/step - loss: 0.1065 - acc: 0.9657 - val_loss: 0.7342 - val_acc: 0.8082\n",
            "Epoch 14/20\n",
            "57/57 [==============================] - 51s 897ms/step - loss: 0.1447 - acc: 0.9557 - val_loss: 0.5870 - val_acc: 0.8573\n",
            "Epoch 15/20\n",
            "57/57 [==============================] - 51s 895ms/step - loss: 0.0767 - acc: 0.9746 - val_loss: 0.5021 - val_acc: 0.8740\n",
            "Epoch 16/20\n",
            "57/57 [==============================] - 51s 897ms/step - loss: 0.0719 - acc: 0.9766 - val_loss: 0.7517 - val_acc: 0.8473\n",
            "Epoch 17/20\n",
            "57/57 [==============================] - 51s 897ms/step - loss: 0.1369 - acc: 0.9568 - val_loss: 0.6945 - val_acc: 0.8317\n",
            "Epoch 18/20\n",
            "57/57 [==============================] - 51s 896ms/step - loss: 0.1291 - acc: 0.9652 - val_loss: 0.4344 - val_acc: 0.8885\n",
            "Epoch 19/20\n",
            "57/57 [==============================] - 51s 897ms/step - loss: 0.0698 - acc: 0.9763 - val_loss: 0.5977 - val_acc: 0.8606\n",
            "Epoch 20/20\n",
            "57/57 [==============================] - 51s 899ms/step - loss: 0.0349 - acc: 0.9886 - val_loss: 0.6542 - val_acc: 0.8595\n",
            "\n",
            "\n",
            "\n"
          ],
          "name": "stdout"
        }
      ]
    },
    {
      "cell_type": "code",
      "metadata": {
        "colab": {
          "base_uri": "https://localhost:8080/"
        },
        "id": "FmtZTE3ls26B",
        "outputId": "c1aaba6f-3cba-4bc5-c46f-3bbd105059c2"
      },
      "source": [
        "# Calculating Average Training and Testing accuracies for Model 0 and Model 1\n",
        "\n",
        "tr_acc_mod0_0 = training_runs_model0[0].history['acc']\n",
        "tr_acc_mod0_1 = training_runs_model0[1].history['acc']\n",
        "tr_acc_mod0_2 = training_runs_model0[2].history['acc']\n",
        "\n",
        "tr_acc_mod1_0 = training_runs_model1[0].history['acc']\n",
        "tr_acc_mod1_1 = training_runs_model1[1].history['acc']\n",
        "tr_acc_mod1_2 = training_runs_model1[2].history['acc']\n",
        "\n",
        "ts_acc_mod0_0 = training_runs_model0[0].history['val_acc']\n",
        "ts_acc_mod0_1 = training_runs_model0[1].history['val_acc']\n",
        "ts_acc_mod0_2 = training_runs_model0[2].history['val_acc']\n",
        "\n",
        "ts_acc_mod1_0 = training_runs_model1[0].history['val_acc']\n",
        "ts_acc_mod1_1 = training_runs_model1[1].history['val_acc']\n",
        "ts_acc_mod1_2 = training_runs_model1[2].history['val_acc']\n",
        "\n",
        "tot_tr_acc_mod0 = np.sum(tr_acc_mod0_0) + np.sum(tr_acc_mod0_1) + np.sum(tr_acc_mod0_2)\n",
        "avg_tr_acc_mod0 = tot_tr_acc_mod0 / 60\n",
        "print(\"Avg training accuracy (random weights): {}\".format(avg_tr_acc_mod0))\n",
        "\n",
        "tot_tr_acc_mod1 = np.sum(tr_acc_mod1_0) + np.sum(tr_acc_mod1_1) + np.sum(tr_acc_mod1_2)\n",
        "avg_tr_acc_mod1 = tot_tr_acc_mod1 / 60\n",
        "print(\"Avg training accuracy (\\'imagenet\\' weights): {}\".format(avg_tr_acc_mod1))\n",
        "\n",
        "print()\n",
        "\n",
        "tot_ts_acc_mod0 = np.sum(ts_acc_mod0_0) + np.sum(ts_acc_mod0_1) + np.sum(ts_acc_mod0_2)\n",
        "avg_ts_acc_mod0 = tot_ts_acc_mod0 / 60\n",
        "print(\"Avg testing accuracy (random weights): {}\".format(avg_ts_acc_mod0))\n",
        "\n",
        "tot_ts_acc_mod1 = np.sum(ts_acc_mod1_0) + np.sum(ts_acc_mod1_1) + np.sum(ts_acc_mod1_2)\n",
        "avg_ts_acc_mod1 = tot_ts_acc_mod1 / 60\n",
        "print(\"Avg testing accuracy (\\'imagenet\\' weights): {}\".format(avg_ts_acc_mod1))"
      ],
      "execution_count": null,
      "outputs": [
        {
          "output_type": "stream",
          "text": [
            "Avg training accuracy (random weights): 0.6067679259926081\n",
            "Avg training accuracy ('imagenet' weights): 0.8268673345446587\n",
            "\n",
            "Avg testing accuracy (random weights): 0.5437755486617486\n",
            "Avg testing accuracy ('imagenet' weights): 0.7808435509602228\n"
          ],
          "name": "stdout"
        }
      ]
    },
    {
      "cell_type": "code",
      "metadata": {
        "id": "NtxzenTEHxIK"
      },
      "source": [
        "# Function to plot data\n",
        "\n",
        "def plotData(ephochs, mod0, mod1, title):\n",
        "  plt.plot(range(epochs), mod0, 'or-', label='Random Weights')\n",
        "  plt.plot(range(epochs), mod1, 'ob-', label='ImageNet Weights')\n",
        "  plt.legend()\n",
        "  plt.xlabel('Epochs')\n",
        "  plt.ylabel('Accuracy')\n",
        "  plt.title(title)\n",
        "  plt.show()"
      ],
      "execution_count": null,
      "outputs": []
    },
    {
      "cell_type": "code",
      "metadata": {
        "colab": {
          "base_uri": "https://localhost:8080/",
          "height": 573
        },
        "id": "dBMZj6gns26B",
        "outputId": "48b47b74-741c-4b0c-925f-8f64e426011e"
      },
      "source": [
        "# Plotting Mean Train and Test accuracies for Model 0 and 1\n",
        "\n",
        "epochs = 20\n",
        "\n",
        "mean_tr_acc_mod0 = np.add(np.add(tr_acc_mod0_0, tr_acc_mod0_1), tr_acc_mod0_2) / 3\n",
        "mean_tr_acc_mod1 = np.add(np.add(tr_acc_mod1_0, tr_acc_mod1_1), tr_acc_mod1_2) / 3\n",
        "\n",
        "mean_ts_acc_mod0 = np.add(np.add(ts_acc_mod0_0, ts_acc_mod0_1), ts_acc_mod0_2) / 3\n",
        "mean_ts_acc_mod1 = np.add(np.add(ts_acc_mod1_0, ts_acc_mod1_1), ts_acc_mod1_2) / 3\n",
        "\n",
        "\n",
        "title1 = 'Average Training Accuracy - Scene15'\n",
        "title2 = 'Average Testing Accuracy - Scene15'\n",
        "plotData(epochs, mean_tr_acc_mod0, mean_tr_acc_mod1, title1)\n",
        "plotData(epochs, mean_ts_acc_mod0, mean_ts_acc_mod1, title2)\n"
      ],
      "execution_count": null,
      "outputs": [
        {
          "output_type": "display_data",
          "data": {
            "image/png": "[encoded data removed]",
            "text/plain": [
              "<Figure size 432x288 with 1 Axes>"
            ]
          },
          "metadata": {
            "tags": [],
            "needs_background": "light"
          }
        },
        {
          "output_type": "display_data",
          "data": {
            "image/png": "[encoded data removed]",
            "text/plain": [
              "<Figure size 432x288 with 1 Axes>"
            ]
          },
          "metadata": {
            "tags": [],
            "needs_background": "light"
          }
        }
      ]
    }
  ]
}