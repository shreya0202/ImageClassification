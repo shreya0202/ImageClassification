{
  "nbformat": 4,
  "nbformat_minor": 0,
  "metadata": {
    "colab": {
      "name": "ImageClass_Caltech256_vgg16.ipynb",
      "provenance": [],
      "collapsed_sections": [],
      "include_colab_link": true
    },
    "kernelspec": {
      "name": "python3",
      "display_name": "Python 3"
    },
    "accelerator": "GPU"
  },
  "cells": [
    {
      "cell_type": "markdown",
      "metadata": {
        "id": "view-in-github",
        "colab_type": "text"
      },
      "source": [
        "<a href=\"https://colab.research.google.com/github/shreya0202/ImageClassification/blob/main/ImageClass_Caltech256_vgg16.ipynb\" target=\"_parent\"><img src=\"https://colab.research.google.com/assets/colab-badge.svg\" alt=\"Open In Colab\"/></a>"
      ]
    },
    {
      "cell_type": "code",
      "metadata": {
        "colab": {
          "base_uri": "https://localhost:8080/"
        },
        "id": "jFADU4er1gTk",
        "outputId": "35a7b03e-8287-4230-8c81-4c791efdde6e"
      },
      "source": [
        "# Mounting Drive\n",
        "\n",
        "from google.colab import drive\n",
        "drive.mount('/content/drive', force_remount=True)"
      ],
      "execution_count": null,
      "outputs": [
        {
          "output_type": "stream",
          "text": [
            "Mounted at /content/drive\n"
          ],
          "name": "stdout"
        }
      ]
    },
    {
      "cell_type": "code",
      "metadata": {
        "id": "v2zWt31x2qjk"
      },
      "source": [
        "# Importing Libraries\n",
        "\n",
        "import os\n",
        "import gc\n",
        "import time\n",
        "import numpy as np\n",
        "from matplotlib import pyplot as plt\n",
        "from zipfile import ZipFile\n",
        "from PIL import Image\n",
        "from sklearn.model_selection import train_test_split\n",
        "import keras\n",
        "from keras.models import Sequential, Model\n",
        "from keras.optimizers import Adam\n",
        "from keras.preprocessing import image\n",
        "from keras.applications.vgg16 import VGG16, preprocess_input\n",
        "from keras.preprocessing.image import img_to_array, load_img\n",
        "from keras.layers import Dense, Flatten, Dropout, Reshape, GlobalAveragePooling2D\n",
        "from keras.layers.normalization import BatchNormalization\n",
        "from keras.callbacks import TensorBoard\n",
        "from keras.callbacks import EarlyStopping"
      ],
      "execution_count": null,
      "outputs": []
    },
    {
      "cell_type": "code",
      "metadata": {
        "id": "g2zmW6oN8A81"
      },
      "source": [
        "# Defining Caltech 256 dataset path\n",
        "\n",
        "if('caltech256_dataset' not in os.listdir('/content/drive/MyDrive/')):\n",
        "    zippath = '/content/drive/MyDrive/256_ObjectCategories.zip' \n",
        "    with ZipFile(zippath, 'r') as zipref:\n",
        "        zipref.extractall('/content/drive/MyDrive/caltech256_dataset') \n",
        "        "
      ],
      "execution_count": null,
      "outputs": []
    },
    {
      "cell_type": "code",
      "metadata": {
        "id": "IwWUEDfAWsGC"
      },
      "source": [
        "data_path = '/content/drive/MyDrive/caltech256_dataset/256_ObjectCategories/' "
      ],
      "execution_count": null,
      "outputs": []
    },
    {
      "cell_type": "code",
      "metadata": {
        "colab": {
          "base_uri": "https://localhost:8080/"
        },
        "id": "YicqarQr9Dc8",
        "outputId": "39a69043-51a2-4de0-b8fb-89871a8f9d97"
      },
      "source": [
        "# Checking total classes in dataset\n",
        "\n",
        "folders = os.listdir(data_path)\n",
        "folders.sort()\n",
        "num_classes = len(folders)\n",
        "print(\"Number of classes: {}\".format(num_classes))"
      ],
      "execution_count": null,
      "outputs": [
        {
          "output_type": "stream",
          "text": [
            "Number of classes: 257\n"
          ],
          "name": "stdout"
        }
      ]
    },
    {
      "cell_type": "code",
      "metadata": {
        "id": "-F346yOp-iAR"
      },
      "source": [
        "os.chdir('/content/drive/MyDrive')"
      ],
      "execution_count": null,
      "outputs": []
    },
    {
      "cell_type": "code",
      "metadata": {
        "id": "40Q-LPJd9pRl"
      },
      "source": [
        "import math\n",
        "import shutil\n",
        "\n",
        "# Splitting data: 30 image per class for training dataset, remaining images are used for testing\n",
        "\n",
        "if('caltech_test' not in os.listdir('/content/drive/MyDrive/')):\n",
        "  os.mkdir(\"caltech_test\") # stores test data\n",
        "\n",
        "  for cat in os.listdir(data_path):\n",
        "    os.mkdir(\"/content/drive/MyDrive/caltech_test/\"+cat) # new folder\n",
        "    imgs = os.listdir(data_path + cat) # all image filenames \n",
        "    test_imgs = imgs[30:len(imgs)] # selecting all but 30 images\n",
        "    for t_img in test_imgs: # move test portion\n",
        "      shutil.move(data_path +cat+\"/\"+t_img, \"/content/drive/MyDrive/caltech_test/\"+cat+\"/\"+t_img)"
      ],
      "execution_count": null,
      "outputs": []
    },
    {
      "cell_type": "code",
      "metadata": {
        "id": "R9Ej4fFbp4NS"
      },
      "source": [
        "# backup whole dataset in a folder\n",
        "# if('dataset_caltech256' not in os.listdir('/content/drive/MyDrive/')):\n",
        "#     zippath = '/content/drive/MyDrive/256_ObjectCategories.zip' \n",
        "#     with ZipFile(zippath, 'r') as zipref:\n",
        "#         zipref.extractall('/content/drive/MyDrive/dataset_caltech256') "
      ],
      "execution_count": null,
      "outputs": []
    },
    {
      "cell_type": "code",
      "metadata": {
        "id": "s76gD_c2OoLZ"
      },
      "source": [
        "# Calling VGG16 model for random weights\n",
        "\n",
        "vgg0 = VGG16(weights=None, input_shape=(224, 224, 3), include_top=True, classes=257)"
      ],
      "execution_count": null,
      "outputs": []
    },
    {
      "cell_type": "code",
      "metadata": {
        "id": "k3N9FmCeAWQN"
      },
      "source": [
        "# Calling VGG16 modell for imagenet weights\n",
        "\n",
        "vgg1 = VGG16(weights='imagenet', input_shape=(224, 224, 3), include_top=False, classes=257)"
      ],
      "execution_count": null,
      "outputs": []
    },
    {
      "cell_type": "code",
      "metadata": {
        "colab": {
          "base_uri": "https://localhost:8080/"
        },
        "id": "4z-fgMBYAqZt",
        "outputId": "8235cef2-a032-4424-d117-a87230b87c7f"
      },
      "source": [
        "# Garbage Collection\n",
        "\n",
        "gc.collect()"
      ],
      "execution_count": null,
      "outputs": [
        {
          "output_type": "execute_result",
          "data": {
            "text/plain": [
              "0"
            ]
          },
          "metadata": {
            "tags": []
          },
          "execution_count": 10
        }
      ]
    },
    {
      "cell_type": "code",
      "metadata": {
        "id": "KIa9l07ngWK_",
        "colab": {
          "base_uri": "https://localhost:8080/"
        },
        "outputId": "80bb395e-58af-497a-fb96-de3ae58b46e1"
      },
      "source": [
        "# Freeze all the layers\n",
        "\n",
        "for layer in vgg0.layers[:]:\n",
        "    layer.trainable = False\n",
        "\n",
        "# Check the trainable status of the individual layers\n",
        "\n",
        "for layer in vgg0.layers:\n",
        "  print(layer, layer.trainable)\n"
      ],
      "execution_count": null,
      "outputs": [
        {
          "output_type": "stream",
          "text": [
            "<tensorflow.python.keras.engine.input_layer.InputLayer object at 0x7f8774758278> False\n",
            "<tensorflow.python.keras.layers.convolutional.Conv2D object at 0x7f87b0971278> False\n",
            "<tensorflow.python.keras.layers.convolutional.Conv2D object at 0x7f87b095c978> False\n",
            "<tensorflow.python.keras.layers.pooling.MaxPooling2D object at 0x7f87a46e4ac8> False\n",
            "<tensorflow.python.keras.layers.convolutional.Conv2D object at 0x7f87a46e4cc0> False\n",
            "<tensorflow.python.keras.layers.convolutional.Conv2D object at 0x7f87746beba8> False\n",
            "<tensorflow.python.keras.layers.pooling.MaxPooling2D object at 0x7f87601a52e8> False\n",
            "<tensorflow.python.keras.layers.convolutional.Conv2D object at 0x7f87601a5b38> False\n",
            "<tensorflow.python.keras.layers.convolutional.Conv2D object at 0x7f87601af9b0> False\n",
            "<tensorflow.python.keras.layers.convolutional.Conv2D object at 0x7f87601afa58> False\n",
            "<tensorflow.python.keras.layers.pooling.MaxPooling2D object at 0x7f87601b99b0> False\n",
            "<tensorflow.python.keras.layers.convolutional.Conv2D object at 0x7f87601c11d0> False\n",
            "<tensorflow.python.keras.layers.convolutional.Conv2D object at 0x7f87601c1ef0> False\n",
            "<tensorflow.python.keras.layers.convolutional.Conv2D object at 0x7f87601c8470> False\n",
            "<tensorflow.python.keras.layers.pooling.MaxPooling2D object at 0x7f87601c8cc0> False\n",
            "<tensorflow.python.keras.layers.convolutional.Conv2D object at 0x7f87601d2828> False\n",
            "<tensorflow.python.keras.layers.convolutional.Conv2D object at 0x7f87601db6a0> False\n",
            "<tensorflow.python.keras.layers.convolutional.Conv2D object at 0x7f87601db748> False\n",
            "<tensorflow.python.keras.layers.pooling.MaxPooling2D object at 0x7f87601e26a0> False\n",
            "<tensorflow.python.keras.layers.core.Flatten object at 0x7f87601e2eb8> False\n",
            "<tensorflow.python.keras.layers.core.Dense object at 0x7f876016c9e8> False\n",
            "<tensorflow.python.keras.layers.core.Dense object at 0x7f876016ccc0> False\n",
            "<tensorflow.python.keras.layers.core.Dense object at 0x7f8760171518> False\n"
          ],
          "name": "stdout"
        }
      ]
    },
    {
      "cell_type": "code",
      "metadata": {
        "colab": {
          "base_uri": "https://localhost:8080/"
        },
        "id": "7GhB-a8pgkDz",
        "outputId": "2f27374e-2f9b-4c8c-8ee5-4ea02a83b9bf"
      },
      "source": [
        "# Freeze all the layers\n",
        "\n",
        "for layer in vgg1.layers[:]:\n",
        "    layer.trainable = False\n",
        "\n",
        "# Check the trainable status of the individual layers\n",
        "\n",
        "for layer in vgg1.layers:\n",
        "  print(layer, layer.trainable)"
      ],
      "execution_count": null,
      "outputs": [
        {
          "output_type": "stream",
          "text": [
            "<tensorflow.python.keras.engine.input_layer.InputLayer object at 0x7fe7901ad080> False\n",
            "<tensorflow.python.keras.layers.convolutional.Conv2D object at 0x7fe7901a3240> False\n",
            "<tensorflow.python.keras.layers.convolutional.Conv2D object at 0x7fe7901a3d30> False\n",
            "<tensorflow.python.keras.layers.pooling.MaxPooling2D object at 0x7fe502fbc240> False\n",
            "<tensorflow.python.keras.layers.convolutional.Conv2D object at 0x7fe502fb21d0> False\n",
            "<tensorflow.python.keras.layers.convolutional.Conv2D object at 0x7fe7901a3358> False\n",
            "<tensorflow.python.keras.layers.pooling.MaxPooling2D object at 0x7fe502fc5c50> False\n",
            "<tensorflow.python.keras.layers.convolutional.Conv2D object at 0x7fe502fc54e0> False\n",
            "<tensorflow.python.keras.layers.convolutional.Conv2D object at 0x7fe502fbca20> False\n",
            "<tensorflow.python.keras.layers.convolutional.Conv2D object at 0x7fe502fcaeb8> False\n",
            "<tensorflow.python.keras.layers.pooling.MaxPooling2D object at 0x7fe502fd4eb8> False\n",
            "<tensorflow.python.keras.layers.convolutional.Conv2D object at 0x7fe502fd45c0> False\n",
            "<tensorflow.python.keras.layers.convolutional.Conv2D object at 0x7fe502fcaf98> False\n",
            "<tensorflow.python.keras.layers.convolutional.Conv2D object at 0x7fe502f67470> False\n",
            "<tensorflow.python.keras.layers.pooling.MaxPooling2D object at 0x7fe502f71780> False\n",
            "<tensorflow.python.keras.layers.convolutional.Conv2D object at 0x7fe502f67b38> False\n",
            "<tensorflow.python.keras.layers.convolutional.Conv2D object at 0x7fe502f67780> False\n",
            "<tensorflow.python.keras.layers.convolutional.Conv2D object at 0x7fe502f779e8> False\n",
            "<tensorflow.python.keras.layers.pooling.MaxPooling2D object at 0x7fe502f82cf8> False\n"
          ],
          "name": "stdout"
        }
      ]
    },
    {
      "cell_type": "code",
      "metadata": {
        "id": "hN4Vd9zVAt2P",
        "colab": {
          "base_uri": "https://localhost:8080/"
        },
        "outputId": "ce9c9d51-4758-4d39-a071-5a6c8943f39e"
      },
      "source": [
        "# Creating layers for Model 0\n",
        "\n",
        "x0 = vgg0.get_layer('block5_pool').output\n",
        "x0 = Flatten(name='flatten')(x0)\n",
        "x0 = Dense(4096, activation='relu', name='dense1')(x0)\n",
        "x0 = BatchNormalization()(x0)\n",
        "x0 = Dropout(0.25)(x0)\n",
        "x0 = Dense(4096, activation='relu', name='dense2')(x0)\n",
        "x0 = BatchNormalization()(x0)\n",
        "x0 = Dropout(0.25)(x0)\n",
        "x0 = Dense(257, activation='softmax', name='classifier')(x0)\n",
        "\n",
        "new_model_0 = Model(inputs=vgg0.input, outputs=x0)\n",
        "\n",
        "new_model_0.save_weights('/content/drive/MyDrive/caltech_initial_model_0.h5')\n",
        "\n",
        "new_model_0.summary()"
      ],
      "execution_count": null,
      "outputs": [
        {
          "output_type": "stream",
          "text": [
            "Model: \"functional_5\"\n",
            "_________________________________________________________________\n",
            "Layer (type)                 Output Shape              Param #   \n",
            "=================================================================\n",
            "input_1 (InputLayer)         [(None, 224, 224, 3)]     0         \n",
            "_________________________________________________________________\n",
            "block1_conv1 (Conv2D)        (None, 224, 224, 64)      1792      \n",
            "_________________________________________________________________\n",
            "block1_conv2 (Conv2D)        (None, 224, 224, 64)      36928     \n",
            "_________________________________________________________________\n",
            "block1_pool (MaxPooling2D)   (None, 112, 112, 64)      0         \n",
            "_________________________________________________________________\n",
            "block2_conv1 (Conv2D)        (None, 112, 112, 128)     73856     \n",
            "_________________________________________________________________\n",
            "block2_conv2 (Conv2D)        (None, 112, 112, 128)     147584    \n",
            "_________________________________________________________________\n",
            "block2_pool (MaxPooling2D)   (None, 56, 56, 128)       0         \n",
            "_________________________________________________________________\n",
            "block3_conv1 (Conv2D)        (None, 56, 56, 256)       295168    \n",
            "_________________________________________________________________\n",
            "block3_conv2 (Conv2D)        (None, 56, 56, 256)       590080    \n",
            "_________________________________________________________________\n",
            "block3_conv3 (Conv2D)        (None, 56, 56, 256)       590080    \n",
            "_________________________________________________________________\n",
            "block3_pool (MaxPooling2D)   (None, 28, 28, 256)       0         \n",
            "_________________________________________________________________\n",
            "block4_conv1 (Conv2D)        (None, 28, 28, 512)       1180160   \n",
            "_________________________________________________________________\n",
            "block4_conv2 (Conv2D)        (None, 28, 28, 512)       2359808   \n",
            "_________________________________________________________________\n",
            "block4_conv3 (Conv2D)        (None, 28, 28, 512)       2359808   \n",
            "_________________________________________________________________\n",
            "block4_pool (MaxPooling2D)   (None, 14, 14, 512)       0         \n",
            "_________________________________________________________________\n",
            "block5_conv1 (Conv2D)        (None, 14, 14, 512)       2359808   \n",
            "_________________________________________________________________\n",
            "block5_conv2 (Conv2D)        (None, 14, 14, 512)       2359808   \n",
            "_________________________________________________________________\n",
            "block5_conv3 (Conv2D)        (None, 14, 14, 512)       2359808   \n",
            "_________________________________________________________________\n",
            "block5_pool (MaxPooling2D)   (None, 7, 7, 512)         0         \n",
            "_________________________________________________________________\n",
            "flatten (Flatten)            (None, 25088)             0         \n",
            "_________________________________________________________________\n",
            "dense1 (Dense)               (None, 4096)              102764544 \n",
            "_________________________________________________________________\n",
            "batch_normalization_5 (Batch (None, 4096)              16384     \n",
            "_________________________________________________________________\n",
            "dropout_5 (Dropout)          (None, 4096)              0         \n",
            "_________________________________________________________________\n",
            "dense2 (Dense)               (None, 4096)              16781312  \n",
            "_________________________________________________________________\n",
            "batch_normalization_6 (Batch (None, 4096)              16384     \n",
            "_________________________________________________________________\n",
            "dropout_6 (Dropout)          (None, 4096)              0         \n",
            "_________________________________________________________________\n",
            "classifier (Dense)           (None, 257)               1052929   \n",
            "=================================================================\n",
            "Total params: 135,346,241\n",
            "Trainable params: 120,615,169\n",
            "Non-trainable params: 14,731,072\n",
            "_________________________________________________________________\n"
          ],
          "name": "stdout"
        }
      ]
    },
    {
      "cell_type": "code",
      "metadata": {
        "id": "R7YHE1vcA1Wx",
        "colab": {
          "base_uri": "https://localhost:8080/"
        },
        "outputId": "2f111f8d-292a-4008-8c48-31c2816ec276"
      },
      "source": [
        "# Creating layers for Model 1\n",
        "\n",
        "x1 = vgg1.output\n",
        "x1 = Flatten(name='flatten')(x1)\n",
        "x1 = Dense(1024, activation='relu', name='dense1')(x1)\n",
        "# x1 = Dropout(0.3)(x1)\n",
        "x1 = Dense(1024, activation='relu', name='dense2')(x1)\n",
        "x1 = Dropout(0.25)(x1)\n",
        "x1 = Dense(257, activation='softmax', name='classifier')(x1)\n",
        "\n",
        "new_model_1 = Model(inputs=vgg1.input, outputs=x1)\n",
        "\n",
        "new_model_1.save_weights('/content/drive/MyDrive/caltech_initial_model_1.h5')\n",
        "\n",
        "new_model_1.summary()"
      ],
      "execution_count": null,
      "outputs": [
        {
          "output_type": "stream",
          "text": [
            "Model: \"functional_53\"\n",
            "_________________________________________________________________\n",
            "Layer (type)                 Output Shape              Param #   \n",
            "=================================================================\n",
            "input_4 (InputLayer)         [(None, 224, 224, 3)]     0         \n",
            "_________________________________________________________________\n",
            "block1_conv1 (Conv2D)        (None, 224, 224, 64)      1792      \n",
            "_________________________________________________________________\n",
            "block1_conv2 (Conv2D)        (None, 224, 224, 64)      36928     \n",
            "_________________________________________________________________\n",
            "block1_pool (MaxPooling2D)   (None, 112, 112, 64)      0         \n",
            "_________________________________________________________________\n",
            "block2_conv1 (Conv2D)        (None, 112, 112, 128)     73856     \n",
            "_________________________________________________________________\n",
            "block2_conv2 (Conv2D)        (None, 112, 112, 128)     147584    \n",
            "_________________________________________________________________\n",
            "block2_pool (MaxPooling2D)   (None, 56, 56, 128)       0         \n",
            "_________________________________________________________________\n",
            "block3_conv1 (Conv2D)        (None, 56, 56, 256)       295168    \n",
            "_________________________________________________________________\n",
            "block3_conv2 (Conv2D)        (None, 56, 56, 256)       590080    \n",
            "_________________________________________________________________\n",
            "block3_conv3 (Conv2D)        (None, 56, 56, 256)       590080    \n",
            "_________________________________________________________________\n",
            "block3_pool (MaxPooling2D)   (None, 28, 28, 256)       0         \n",
            "_________________________________________________________________\n",
            "block4_conv1 (Conv2D)        (None, 28, 28, 512)       1180160   \n",
            "_________________________________________________________________\n",
            "block4_conv2 (Conv2D)        (None, 28, 28, 512)       2359808   \n",
            "_________________________________________________________________\n",
            "block4_conv3 (Conv2D)        (None, 28, 28, 512)       2359808   \n",
            "_________________________________________________________________\n",
            "block4_pool (MaxPooling2D)   (None, 14, 14, 512)       0         \n",
            "_________________________________________________________________\n",
            "block5_conv1 (Conv2D)        (None, 14, 14, 512)       2359808   \n",
            "_________________________________________________________________\n",
            "block5_conv2 (Conv2D)        (None, 14, 14, 512)       2359808   \n",
            "_________________________________________________________________\n",
            "block5_conv3 (Conv2D)        (None, 14, 14, 512)       2359808   \n",
            "_________________________________________________________________\n",
            "block5_pool (MaxPooling2D)   (None, 7, 7, 512)         0         \n",
            "_________________________________________________________________\n",
            "flatten (Flatten)            (None, 25088)             0         \n",
            "_________________________________________________________________\n",
            "dense1 (Dense)               (None, 1024)              25691136  \n",
            "_________________________________________________________________\n",
            "dense2 (Dense)               (None, 1024)              1049600   \n",
            "_________________________________________________________________\n",
            "dropout_37 (Dropout)         (None, 1024)              0         \n",
            "_________________________________________________________________\n",
            "classifier (Dense)           (None, 257)               263425    \n",
            "=================================================================\n",
            "Total params: 41,718,849\n",
            "Trainable params: 27,004,161\n",
            "Non-trainable params: 14,714,688\n",
            "_________________________________________________________________\n"
          ],
          "name": "stdout"
        }
      ]
    },
    {
      "cell_type": "code",
      "metadata": {
        "colab": {
          "base_uri": "https://localhost:8080/"
        },
        "id": "AkGtl233_fmo",
        "outputId": "11206d89-be61-4e51-ccfd-165130e9459d"
      },
      "source": [
        "# Using ImageDataGenerator to get train and test data\n",
        "import tensorflow as tf\n",
        "\n",
        "image_size = 224\n",
        "train_batchsize = 32\n",
        "test_batchsize = 10\n",
        "\n",
        "new_path = '/content/drive/MyDrive/caltech_test'\n",
        "datagen = tf.keras.preprocessing.image.ImageDataGenerator(rescale=1./255)\n",
        "datagen1 = tf.keras.preprocessing.image.ImageDataGenerator(rescale=1./255)\n",
        "\n",
        "train_generator = datagen.flow_from_directory(data_path, \n",
        "                                            target_size=(image_size, image_size), \n",
        "                                            batch_size=test_batchsize, # subset = 'validation',\n",
        "                                            class_mode='categorical')\n",
        "\n",
        "val_generator = datagen1.flow_from_directory(new_path, \n",
        "                                              target_size=(image_size, image_size), \n",
        "                                              batch_size=train_batchsize, # subset = 'training',\n",
        "                                              class_mode='categorical')\n",
        "\n",
        "\n",
        "\n",
        "\n",
        "\n"
      ],
      "execution_count": null,
      "outputs": [
        {
          "output_type": "stream",
          "text": [
            "Found 7710 images belonging to 257 classes.\n",
            "Found 22897 images belonging to 257 classes.\n"
          ],
          "name": "stdout"
        }
      ]
    },
    {
      "cell_type": "code",
      "metadata": {
        "id": "8V3ZaCzUBU0O"
      },
      "source": [
        "# Creating Log files for Model 1\n",
        "\n",
        "tensorboard_model0_caltech = TensorBoard(log_dir='/content/drive/MyDrive/logs_caltech/model_0/{}'.format(time.time()))\n",
        "tensorboard_model1_caltech = TensorBoard(log_dir='/content/drive/MyDrive/logs_caltech/model_1/{}'.format(time.time()))"
      ],
      "execution_count": null,
      "outputs": []
    },
    {
      "cell_type": "code",
      "metadata": {
        "id": "_rT7QNxNAsdC",
        "colab": {
          "base_uri": "https://localhost:8080/"
        },
        "outputId": "63d4c710-874d-4da0-8b68-99bbf1b70351"
      },
      "source": [
        "# Training and Testing Model 0 for VGG16 with imagenet weights\n",
        "import time\n",
        "training_runs_model0 = []\n",
        "\n",
        "for i in range(3):\n",
        "    start_time = time.time()\n",
        "    new_model_0.compile(optimizer=keras.optimizers.RMSprop(lr=1e-4), loss='categorical_crossentropy', metrics=['acc'])\n",
        "    print(\"Training Run #{}\\n\".format(i+1))\n",
        "    model_history = new_model_0.fit(train_generator, epochs=20, validation_data=val_generator, callbacks=[tensorboard_model1_caltech])\n",
        "    end_time = time.time()\n",
        "    training_runs_model0.append(model_history)\n",
        "    new_model_0.get_weights()\n",
        "    if(i == 2):\n",
        "        new_model_0.save_weights('/content/drive/MyDrive/caltech_final_model_0.h5')\n",
        "    else:\n",
        "        new_model_0.load_weights('/content/drive/MyDrive/caltech_initial_model_0.h5')\n",
        "    print(f\"Training time: {end_time - start_time}s\")\n",
        "    print(\"\\n\\n\")"
      ],
      "execution_count": null,
      "outputs": [
        {
          "output_type": "stream",
          "text": [
            "Training Run #1\n",
            "\n",
            "Epoch 1/20\n",
            "  2/771 [..............................] - ETA: 1:44 - loss: 4.8596 - acc: 0.2000WARNING:tensorflow:Callbacks method `on_train_batch_end` is slow compared to the batch time (batch time: 0.0892s vs `on_train_batch_end` time: 0.1459s). Check your callbacks.\n",
            "771/771 [==============================] - 187s 243ms/step - loss: 5.1396 - acc: 0.0598 - val_loss: 5.3057 - val_acc: 0.0550\n",
            "Epoch 2/20\n",
            "771/771 [==============================] - 187s 242ms/step - loss: 5.0692 - acc: 0.0686 - val_loss: 5.2841 - val_acc: 0.0804\n",
            "Epoch 3/20\n",
            "771/771 [==============================] - 188s 244ms/step - loss: 5.0188 - acc: 0.0780 - val_loss: 5.3071 - val_acc: 0.0678\n",
            "Epoch 4/20\n",
            "771/771 [==============================] - 188s 244ms/step - loss: 4.9822 - acc: 0.0827 - val_loss: 5.1980 - val_acc: 0.0739\n",
            "Epoch 5/20\n",
            "771/771 [==============================] - 188s 244ms/step - loss: 4.9430 - acc: 0.0895 - val_loss: 5.2743 - val_acc: 0.0665\n",
            "Epoch 6/20\n",
            "771/771 [==============================] - 189s 245ms/step - loss: 4.8831 - acc: 0.1048 - val_loss: 5.2836 - val_acc: 0.0722\n",
            "Epoch 7/20\n",
            "771/771 [==============================] - 188s 244ms/step - loss: 4.8323 - acc: 0.1134 - val_loss: 5.2119 - val_acc: 0.0589\n",
            "Epoch 8/20\n",
            "771/771 [==============================] - 188s 244ms/step - loss: 4.7719 - acc: 0.1268 - val_loss: 5.2024 - val_acc: 0.0945\n",
            "Epoch 9/20\n",
            "771/771 [==============================] - 188s 244ms/step - loss: 4.7145 - acc: 0.1444 - val_loss: 5.2526 - val_acc: 0.0759\n",
            "Epoch 10/20\n",
            "771/771 [==============================] - 188s 243ms/step - loss: 4.6713 - acc: 0.1567 - val_loss: 5.0902 - val_acc: 0.0970\n",
            "Epoch 11/20\n",
            "771/771 [==============================] - 188s 244ms/step - loss: 4.6105 - acc: 0.1741 - val_loss: 5.1388 - val_acc: 0.0860\n",
            "Epoch 12/20\n",
            "771/771 [==============================] - 188s 244ms/step - loss: 4.5387 - acc: 0.1918 - val_loss: 5.1060 - val_acc: 0.0951\n",
            "Epoch 13/20\n",
            "771/771 [==============================] - 190s 247ms/step - loss: 4.4706 - acc: 0.2160 - val_loss: 5.0991 - val_acc: 0.1103\n",
            "Epoch 14/20\n",
            "771/771 [==============================] - 192s 249ms/step - loss: 4.3939 - acc: 0.2401 - val_loss: 5.2443 - val_acc: 0.0734\n",
            "Epoch 15/20\n",
            "771/771 [==============================] - 191s 248ms/step - loss: 4.3074 - acc: 0.2637 - val_loss: 5.1765 - val_acc: 0.0768\n",
            "Epoch 16/20\n",
            "771/771 [==============================] - 191s 248ms/step - loss: 4.2086 - acc: 0.3057 - val_loss: 5.2329 - val_acc: 0.0639\n",
            "Epoch 17/20\n",
            "771/771 [==============================] - 192s 249ms/step - loss: 4.1182 - acc: 0.3316 - val_loss: 5.1579 - val_acc: 0.0875\n",
            "Epoch 18/20\n",
            "771/771 [==============================] - 190s 246ms/step - loss: 4.0050 - acc: 0.3636 - val_loss: 5.1916 - val_acc: 0.0815\n",
            "Epoch 19/20\n",
            "771/771 [==============================] - 191s 247ms/step - loss: 3.9063 - acc: 0.4029 - val_loss: 5.1132 - val_acc: 0.0769\n",
            "Epoch 20/20\n",
            "771/771 [==============================] - 189s 245ms/step - loss: 3.7864 - acc: 0.4361 - val_loss: 5.2766 - val_acc: 0.0709\n",
            "Training time: 3784.9759137630463s\n",
            "\n",
            "\n",
            "\n",
            "Training Run #2\n",
            "\n",
            "Epoch 1/20\n",
            "  2/771 [..............................] - ETA: 1:40 - loss: 5.8588 - acc: 0.0000e+00WARNING:tensorflow:Callbacks method `on_train_batch_end` is slow compared to the batch time (batch time: 0.0638s vs `on_train_batch_end` time: 0.1608s). Check your callbacks.\n",
            "771/771 [==============================] - 191s 248ms/step - loss: 5.6974 - acc: 0.0163 - val_loss: 6.2914 - val_acc: 0.0094\n",
            "Epoch 2/20\n",
            "771/771 [==============================] - 190s 246ms/step - loss: 5.3055 - acc: 0.0393 - val_loss: 5.7058 - val_acc: 0.0213\n",
            "Epoch 3/20\n",
            "771/771 [==============================] - 189s 245ms/step - loss: 5.2016 - acc: 0.0454 - val_loss: 5.5267 - val_acc: 0.0307\n",
            "Epoch 4/20\n",
            "771/771 [==============================] - 190s 247ms/step - loss: 5.1278 - acc: 0.0568 - val_loss: 5.7985 - val_acc: 0.0135\n",
            "Epoch 5/20\n",
            "771/771 [==============================] - 189s 245ms/step - loss: 5.0790 - acc: 0.0668 - val_loss: 5.3186 - val_acc: 0.0591\n",
            "Epoch 6/20\n",
            "771/771 [==============================] - 189s 245ms/step - loss: 5.0224 - acc: 0.0772 - val_loss: 5.3325 - val_acc: 0.0593\n",
            "Epoch 7/20\n",
            "771/771 [==============================] - 189s 245ms/step - loss: 4.9903 - acc: 0.0834 - val_loss: 5.2435 - val_acc: 0.0738\n",
            "Epoch 8/20\n",
            "771/771 [==============================] - 189s 245ms/step - loss: 4.9363 - acc: 0.0894 - val_loss: 5.3870 - val_acc: 0.0443\n",
            "Epoch 9/20\n",
            "771/771 [==============================] - 189s 245ms/step - loss: 4.8825 - acc: 0.1005 - val_loss: 5.2755 - val_acc: 0.0734\n",
            "Epoch 10/20\n",
            "771/771 [==============================] - 189s 245ms/step - loss: 4.8373 - acc: 0.1130 - val_loss: 5.3103 - val_acc: 0.0597\n",
            "Epoch 11/20\n",
            "771/771 [==============================] - 188s 244ms/step - loss: 4.7973 - acc: 0.1276 - val_loss: 5.3193 - val_acc: 0.0821\n",
            "Epoch 12/20\n",
            "771/771 [==============================] - 188s 244ms/step - loss: 4.7503 - acc: 0.1392 - val_loss: 5.2418 - val_acc: 0.0691\n",
            "Epoch 13/20\n",
            "771/771 [==============================] - 188s 244ms/step - loss: 4.6888 - acc: 0.1595 - val_loss: 5.1036 - val_acc: 0.1060\n",
            "Epoch 14/20\n",
            "771/771 [==============================] - 188s 244ms/step - loss: 4.6333 - acc: 0.1700 - val_loss: 5.1345 - val_acc: 0.0941\n",
            "Epoch 15/20\n",
            "771/771 [==============================] - 188s 244ms/step - loss: 4.5833 - acc: 0.1900 - val_loss: 5.2493 - val_acc: 0.0566\n",
            "Epoch 16/20\n",
            "771/771 [==============================] - 187s 243ms/step - loss: 4.5032 - acc: 0.2001 - val_loss: 5.1059 - val_acc: 0.0987\n",
            "Epoch 17/20\n",
            "771/771 [==============================] - 188s 244ms/step - loss: 4.4418 - acc: 0.2279 - val_loss: 5.2470 - val_acc: 0.0670\n",
            "Epoch 18/20\n",
            "771/771 [==============================] - 188s 244ms/step - loss: 4.3703 - acc: 0.2471 - val_loss: 5.2424 - val_acc: 0.0732\n",
            "Epoch 19/20\n",
            "771/771 [==============================] - 188s 244ms/step - loss: 4.2731 - acc: 0.2872 - val_loss: 5.1653 - val_acc: 0.0976\n",
            "Epoch 20/20\n",
            "771/771 [==============================] - 188s 244ms/step - loss: 4.1860 - acc: 0.3049 - val_loss: 5.2220 - val_acc: 0.0864\n",
            "Training time: 3779.5817778110504s\n",
            "\n",
            "\n",
            "\n",
            "Training Run #3\n",
            "\n",
            "Epoch 1/20\n",
            "  2/771 [..............................] - ETA: 1:51 - loss: 5.8313 - acc: 0.0000e+00WARNING:tensorflow:Callbacks method `on_train_batch_end` is slow compared to the batch time (batch time: 0.0728s vs `on_train_batch_end` time: 0.1831s). Check your callbacks.\n",
            "771/771 [==============================] - 190s 246ms/step - loss: 5.6987 - acc: 0.0176 - val_loss: 5.9374 - val_acc: 0.0147\n",
            "Epoch 2/20\n",
            "771/771 [==============================] - 189s 245ms/step - loss: 5.2977 - acc: 0.0393 - val_loss: 5.7936 - val_acc: 0.0184\n",
            "Epoch 3/20\n",
            "771/771 [==============================] - 189s 245ms/step - loss: 5.1880 - acc: 0.0463 - val_loss: 5.3940 - val_acc: 0.0443\n",
            "Epoch 4/20\n",
            "771/771 [==============================] - 189s 245ms/step - loss: 5.1229 - acc: 0.0581 - val_loss: 5.4013 - val_acc: 0.0548\n",
            "Epoch 5/20\n",
            "771/771 [==============================] - 189s 246ms/step - loss: 5.0743 - acc: 0.0674 - val_loss: 5.3144 - val_acc: 0.0753\n",
            "Epoch 6/20\n",
            "771/771 [==============================] - 189s 245ms/step - loss: 5.0306 - acc: 0.0711 - val_loss: 5.3593 - val_acc: 0.0476\n",
            "Epoch 7/20\n",
            "771/771 [==============================] - 190s 247ms/step - loss: 4.9942 - acc: 0.0843 - val_loss: 5.2538 - val_acc: 0.0759\n",
            "Epoch 8/20\n",
            "771/771 [==============================] - 189s 245ms/step - loss: 4.9583 - acc: 0.0863 - val_loss: 5.3403 - val_acc: 0.0649\n",
            "Epoch 9/20\n",
            "771/771 [==============================] - 189s 245ms/step - loss: 4.9053 - acc: 0.1022 - val_loss: 5.1886 - val_acc: 0.0794\n",
            "Epoch 10/20\n",
            "771/771 [==============================] - 189s 246ms/step - loss: 4.8626 - acc: 0.1132 - val_loss: 5.2247 - val_acc: 0.0673\n",
            "Epoch 11/20\n",
            "771/771 [==============================] - 189s 245ms/step - loss: 4.8260 - acc: 0.1183 - val_loss: 5.1752 - val_acc: 0.0860\n",
            "Epoch 12/20\n",
            "771/771 [==============================] - 189s 245ms/step - loss: 4.7847 - acc: 0.1268 - val_loss: 5.2385 - val_acc: 0.0808\n",
            "Epoch 13/20\n",
            "771/771 [==============================] - 188s 244ms/step - loss: 4.7338 - acc: 0.1418 - val_loss: 5.2182 - val_acc: 0.0926\n",
            "Epoch 14/20\n",
            "771/771 [==============================] - 189s 245ms/step - loss: 4.6669 - acc: 0.1560 - val_loss: 5.2015 - val_acc: 0.0850\n",
            "Epoch 15/20\n",
            "771/771 [==============================] - 189s 245ms/step - loss: 4.6165 - acc: 0.1750 - val_loss: 5.1181 - val_acc: 0.0872\n",
            "Epoch 16/20\n",
            "771/771 [==============================] - 188s 244ms/step - loss: 4.5364 - acc: 0.2001 - val_loss: 5.0992 - val_acc: 0.0956\n",
            "Epoch 17/20\n",
            "771/771 [==============================] - 188s 244ms/step - loss: 4.4870 - acc: 0.2119 - val_loss: 5.1870 - val_acc: 0.0850\n",
            "Epoch 18/20\n",
            "771/771 [==============================] - 188s 244ms/step - loss: 4.4265 - acc: 0.2344 - val_loss: 5.0322 - val_acc: 0.1051\n",
            "Epoch 19/20\n",
            "771/771 [==============================] - 188s 244ms/step - loss: 4.3505 - acc: 0.2608 - val_loss: 5.1475 - val_acc: 0.0764\n",
            "Epoch 20/20\n",
            "771/771 [==============================] - 188s 243ms/step - loss: 4.2511 - acc: 0.2842 - val_loss: 5.1013 - val_acc: 0.0967\n",
            "Training time: 3779.425987482071s\n",
            "\n",
            "\n",
            "\n"
          ],
          "name": "stdout"
        }
      ]
    },
    {
      "cell_type": "code",
      "metadata": {
        "colab": {
          "base_uri": "https://localhost:8080/"
        },
        "id": "02CgZlLyP8wZ",
        "outputId": "5234b789-b7a1-4276-9752-4b8628a367d8"
      },
      "source": [
        "# Training and Testing Model 1 for VGG16 with imagenet weights\n",
        "import time\n",
        "training_runs_model1 = []\n",
        "\n",
        "for i in range(3):\n",
        "    start_time = time.time()\n",
        "    new_model_1.compile(optimizer=keras.optimizers.RMSprop(lr=1e-4), loss='categorical_crossentropy', metrics=['acc'])\n",
        "    print(\"Training Run #{}\\n\".format(i+1))\n",
        "    model_history = new_model_1.fit(train_generator, epochs=20, validation_data=val_generator, callbacks=[tensorboard_model1_caltech])\n",
        "    end_time = time.time()\n",
        "    training_runs_model1.append(model_history)\n",
        "    new_model_1.get_weights()\n",
        "    if(i == 2):\n",
        "        new_model_1.save_weights('/content/drive/MyDrive/caltech_final_model_1.h5')\n",
        "    else:\n",
        "        new_model_1.load_weights('/content/drive/MyDrive/caltech_initial_model_1.h5')\n",
        "    print(f\"Training time: {end_time - start_time}s\")\n",
        "    print(\"\\n\\n\")"
      ],
      "execution_count": null,
      "outputs": [
        {
          "output_type": "stream",
          "text": [
            "Training Run #1\n",
            "\n",
            "Epoch 1/20\n",
            "  2/771 [..............................] - ETA: 1:36 - loss: 6.0734 - acc: 0.0000e+00WARNING:tensorflow:Callbacks method `on_train_batch_end` is slow compared to the batch time (batch time: 0.0907s vs `on_train_batch_end` time: 0.1530s). Check your callbacks.\n",
            "771/771 [==============================] - 165s 215ms/step - loss: 4.8859 - acc: 0.0803 - val_loss: 3.6715 - val_acc: 0.2552\n",
            "Epoch 2/20\n",
            "771/771 [==============================] - 165s 214ms/step - loss: 2.8687 - acc: 0.3519 - val_loss: 2.7294 - val_acc: 0.4003\n",
            "Epoch 3/20\n",
            "771/771 [==============================] - 165s 214ms/step - loss: 1.7578 - acc: 0.5725 - val_loss: 2.3629 - val_acc: 0.4578\n",
            "Epoch 4/20\n",
            "771/771 [==============================] - 165s 214ms/step - loss: 1.0481 - acc: 0.7371 - val_loss: 2.3832 - val_acc: 0.4558\n",
            "Epoch 5/20\n",
            "771/771 [==============================] - 165s 214ms/step - loss: 0.5888 - acc: 0.8562 - val_loss: 2.3195 - val_acc: 0.4855\n",
            "Epoch 6/20\n",
            "771/771 [==============================] - 165s 214ms/step - loss: 0.3280 - acc: 0.9204 - val_loss: 2.4104 - val_acc: 0.4809\n",
            "Epoch 7/20\n",
            "771/771 [==============================] - 165s 214ms/step - loss: 0.1847 - acc: 0.9551 - val_loss: 2.5267 - val_acc: 0.4864\n",
            "Epoch 8/20\n",
            "771/771 [==============================] - 164s 213ms/step - loss: 0.1171 - acc: 0.9689 - val_loss: 2.6722 - val_acc: 0.4767\n",
            "Epoch 9/20\n",
            "771/771 [==============================] - 164s 213ms/step - loss: 0.0770 - acc: 0.9805 - val_loss: 2.7237 - val_acc: 0.4907\n",
            "Epoch 10/20\n",
            "771/771 [==============================] - 164s 212ms/step - loss: 0.0548 - acc: 0.9860 - val_loss: 2.8754 - val_acc: 0.4991\n",
            "Epoch 11/20\n",
            "771/771 [==============================] - 163s 212ms/step - loss: 0.0395 - acc: 0.9907 - val_loss: 3.0612 - val_acc: 0.4833\n",
            "Epoch 12/20\n",
            "771/771 [==============================] - 163s 212ms/step - loss: 0.0300 - acc: 0.9918 - val_loss: 2.9858 - val_acc: 0.5091\n",
            "Epoch 13/20\n",
            "771/771 [==============================] - 163s 212ms/step - loss: 0.0290 - acc: 0.9916 - val_loss: 3.1182 - val_acc: 0.5011\n",
            "Epoch 14/20\n",
            "771/771 [==============================] - 163s 212ms/step - loss: 0.0217 - acc: 0.9947 - val_loss: 3.4023 - val_acc: 0.4869\n",
            "Epoch 15/20\n",
            "771/771 [==============================] - 163s 212ms/step - loss: 0.0195 - acc: 0.9939 - val_loss: 3.2776 - val_acc: 0.5019\n",
            "Epoch 16/20\n",
            "771/771 [==============================] - 163s 211ms/step - loss: 0.0191 - acc: 0.9940 - val_loss: 3.4844 - val_acc: 0.4856\n",
            "Epoch 17/20\n",
            "771/771 [==============================] - 163s 212ms/step - loss: 0.0129 - acc: 0.9971 - val_loss: 3.4556 - val_acc: 0.5043\n",
            "Epoch 18/20\n",
            "771/771 [==============================] - 163s 211ms/step - loss: 0.0151 - acc: 0.9956 - val_loss: 3.5991 - val_acc: 0.4987\n",
            "Epoch 19/20\n",
            "771/771 [==============================] - 163s 211ms/step - loss: 0.0104 - acc: 0.9973 - val_loss: 3.5816 - val_acc: 0.5170\n",
            "Epoch 20/20\n",
            "771/771 [==============================] - 164s 212ms/step - loss: 0.0124 - acc: 0.9970 - val_loss: 3.6001 - val_acc: 0.5150\n",
            "Training time: 3282.1541969776154s\n",
            "\n",
            "\n",
            "\n",
            "Training Run #2\n",
            "\n",
            "Epoch 1/20\n",
            "  2/771 [..............................] - ETA: 1:18 - loss: 6.0097 - acc: 0.0000e+00WARNING:tensorflow:Callbacks method `on_train_batch_end` is slow compared to the batch time (batch time: 0.0749s vs `on_train_batch_end` time: 0.1232s). Check your callbacks.\n",
            "771/771 [==============================] - 164s 213ms/step - loss: 4.9208 - acc: 0.0735 - val_loss: 3.6458 - val_acc: 0.2535\n",
            "Epoch 2/20\n",
            "771/771 [==============================] - 164s 213ms/step - loss: 2.9258 - acc: 0.3432 - val_loss: 2.7371 - val_acc: 0.3884\n",
            "Epoch 3/20\n",
            "771/771 [==============================] - 164s 212ms/step - loss: 1.7600 - acc: 0.5750 - val_loss: 2.4296 - val_acc: 0.4533\n",
            "Epoch 4/20\n",
            "771/771 [==============================] - 166s 215ms/step - loss: 1.0601 - acc: 0.7409 - val_loss: 2.3101 - val_acc: 0.4719\n",
            "Epoch 5/20\n",
            "771/771 [==============================] - 166s 215ms/step - loss: 0.6128 - acc: 0.8488 - val_loss: 2.3400 - val_acc: 0.4774\n",
            "Epoch 6/20\n",
            "771/771 [==============================] - 167s 217ms/step - loss: 0.3294 - acc: 0.9213 - val_loss: 2.3776 - val_acc: 0.4864\n",
            "Epoch 7/20\n",
            "771/771 [==============================] - 166s 216ms/step - loss: 0.1903 - acc: 0.9540 - val_loss: 2.4013 - val_acc: 0.4934\n",
            "Epoch 8/20\n",
            "771/771 [==============================] - 167s 217ms/step - loss: 0.1172 - acc: 0.9728 - val_loss: 2.7191 - val_acc: 0.4843\n",
            "Epoch 9/20\n",
            "771/771 [==============================] - 166s 216ms/step - loss: 0.0779 - acc: 0.9800 - val_loss: 2.5473 - val_acc: 0.5105\n",
            "Epoch 10/20\n",
            "771/771 [==============================] - 168s 217ms/step - loss: 0.0525 - acc: 0.9878 - val_loss: 2.8378 - val_acc: 0.4872\n",
            "Epoch 11/20\n",
            "771/771 [==============================] - 166s 215ms/step - loss: 0.0407 - acc: 0.9903 - val_loss: 2.9632 - val_acc: 0.4867\n",
            "Epoch 12/20\n",
            "771/771 [==============================] - 167s 217ms/step - loss: 0.0341 - acc: 0.9901 - val_loss: 2.9051 - val_acc: 0.5107\n",
            "Epoch 13/20\n",
            "771/771 [==============================] - 167s 217ms/step - loss: 0.0220 - acc: 0.9947 - val_loss: 2.9765 - val_acc: 0.5085\n",
            "Epoch 14/20\n",
            "771/771 [==============================] - 167s 217ms/step - loss: 0.0203 - acc: 0.9947 - val_loss: 3.2013 - val_acc: 0.5067\n",
            "Epoch 15/20\n",
            "771/771 [==============================] - 167s 216ms/step - loss: 0.0224 - acc: 0.9936 - val_loss: 3.1961 - val_acc: 0.5160\n",
            "Epoch 16/20\n",
            "771/771 [==============================] - 167s 217ms/step - loss: 0.0145 - acc: 0.9962 - val_loss: 3.6024 - val_acc: 0.4881\n",
            "Epoch 17/20\n",
            "771/771 [==============================] - 166s 216ms/step - loss: 0.0155 - acc: 0.9948 - val_loss: 3.4256 - val_acc: 0.5195\n",
            "Epoch 18/20\n",
            "771/771 [==============================] - 167s 216ms/step - loss: 0.0124 - acc: 0.9958 - val_loss: 3.5026 - val_acc: 0.5107\n",
            "Epoch 19/20\n",
            "771/771 [==============================] - 166s 216ms/step - loss: 0.0133 - acc: 0.9957 - val_loss: 3.6451 - val_acc: 0.5059\n",
            "Epoch 20/20\n",
            "771/771 [==============================] - 166s 216ms/step - loss: 0.0119 - acc: 0.9964 - val_loss: 3.6787 - val_acc: 0.5130\n",
            "Training time: 3328.0547585487366s\n",
            "\n",
            "\n",
            "\n",
            "Training Run #3\n",
            "\n",
            "Epoch 1/20\n",
            "771/771 [==============================] - 167s 216ms/step - loss: 4.8977 - acc: 0.0816 - val_loss: 3.6986 - val_acc: 0.2473\n",
            "Epoch 2/20\n",
            "771/771 [==============================] - 166s 215ms/step - loss: 2.8878 - acc: 0.3533 - val_loss: 2.7479 - val_acc: 0.3849\n",
            "Epoch 3/20\n",
            "771/771 [==============================] - 166s 216ms/step - loss: 1.7511 - acc: 0.5763 - val_loss: 2.3781 - val_acc: 0.4674\n",
            "Epoch 4/20\n",
            "771/771 [==============================] - 165s 214ms/step - loss: 1.0381 - acc: 0.7350 - val_loss: 2.3006 - val_acc: 0.4742\n",
            "Epoch 5/20\n",
            "771/771 [==============================] - 166s 215ms/step - loss: 0.5845 - acc: 0.8545 - val_loss: 2.4848 - val_acc: 0.4653\n",
            "Epoch 6/20\n",
            "771/771 [==============================] - 165s 214ms/step - loss: 0.3189 - acc: 0.9182 - val_loss: 2.5186 - val_acc: 0.4635\n",
            "Epoch 7/20\n",
            "771/771 [==============================] - 166s 215ms/step - loss: 0.1721 - acc: 0.9580 - val_loss: 2.5723 - val_acc: 0.4808\n",
            "Epoch 8/20\n",
            "771/771 [==============================] - 165s 214ms/step - loss: 0.1183 - acc: 0.9696 - val_loss: 2.5005 - val_acc: 0.5030\n",
            "Epoch 9/20\n",
            "771/771 [==============================] - 167s 216ms/step - loss: 0.0766 - acc: 0.9812 - val_loss: 2.9852 - val_acc: 0.4616\n",
            "Epoch 10/20\n",
            "771/771 [==============================] - 165s 214ms/step - loss: 0.0529 - acc: 0.9869 - val_loss: 2.9703 - val_acc: 0.4796\n",
            "Epoch 11/20\n",
            "771/771 [==============================] - 165s 214ms/step - loss: 0.0452 - acc: 0.9891 - val_loss: 2.8626 - val_acc: 0.5029\n",
            "Epoch 12/20\n",
            "771/771 [==============================] - 165s 214ms/step - loss: 0.0345 - acc: 0.9911 - val_loss: 3.1680 - val_acc: 0.4875\n",
            "Epoch 13/20\n",
            "771/771 [==============================] - 165s 214ms/step - loss: 0.0281 - acc: 0.9931 - val_loss: 3.1792 - val_acc: 0.4971\n",
            "Epoch 14/20\n",
            "771/771 [==============================] - 164s 213ms/step - loss: 0.0217 - acc: 0.9938 - val_loss: 3.6679 - val_acc: 0.4664\n",
            "Epoch 15/20\n",
            "771/771 [==============================] - 163s 211ms/step - loss: 0.0208 - acc: 0.9946 - val_loss: 3.2913 - val_acc: 0.5090\n",
            "Epoch 16/20\n",
            "771/771 [==============================] - 163s 212ms/step - loss: 0.0165 - acc: 0.9947 - val_loss: 3.2477 - val_acc: 0.5248\n",
            "Epoch 17/20\n",
            "771/771 [==============================] - 163s 212ms/step - loss: 0.0150 - acc: 0.9956 - val_loss: 3.5912 - val_acc: 0.4946\n",
            "Epoch 18/20\n",
            "771/771 [==============================] - 163s 212ms/step - loss: 0.0134 - acc: 0.9966 - val_loss: 3.8454 - val_acc: 0.4849\n",
            "Epoch 19/20\n",
            "771/771 [==============================] - 164s 213ms/step - loss: 0.0157 - acc: 0.9946 - val_loss: 4.0706 - val_acc: 0.4841\n",
            "Epoch 20/20\n",
            "771/771 [==============================] - 163s 211ms/step - loss: 0.0125 - acc: 0.9965 - val_loss: 3.5257 - val_acc: 0.5205\n",
            "Training time: 3298.9383974075317s\n",
            "\n",
            "\n",
            "\n"
          ],
          "name": "stdout"
        }
      ]
    },
    {
      "cell_type": "code",
      "metadata": {
        "colab": {
          "base_uri": "https://localhost:8080/"
        },
        "id": "weXSmWPkmChj",
        "outputId": "8e0380dd-e7d4-43fb-b07c-38be9b97731f"
      },
      "source": [
        "tr_acc_mod0_0 = training_runs_model0[0].history['acc']\n",
        "tr_acc_mod0_1 = training_runs_model0[1].history['acc']\n",
        "tr_acc_mod0_2 = training_runs_model0[2].history['acc']\n",
        "\n",
        "tr_acc_mod1_0 = training_runs_model1[0].history['acc']\n",
        "tr_acc_mod1_1 = training_runs_model1[1].history['acc']\n",
        "tr_acc_mod1_2 = training_runs_model1[2].history['acc']\n",
        "\n",
        "ts_acc_mod0_0 = training_runs_model0[0].history['val_acc']\n",
        "ts_acc_mod0_1 = training_runs_model0[1].history['val_acc']\n",
        "ts_acc_mod0_2 = training_runs_model0[2].history['val_acc']\n",
        "\n",
        "ts_acc_mod1_0 = training_runs_model1[0].history['val_acc']\n",
        "ts_acc_mod1_1 = training_runs_model1[1].history['val_acc']\n",
        "ts_acc_mod1_2 = training_runs_model1[2].history['val_acc']\n",
        "\n",
        "tot_tr_acc_mod0 = max(tr_acc_mod0_0) + max(tr_acc_mod0_1) + max(tr_acc_mod0_2)\n",
        "avg_tr_acc_mod0 = tot_tr_acc_mod0 / 3\n",
        "print(\"Avg training accuracy (random weights): {}\".format(avg_tr_acc_mod0))\n",
        "\n",
        "tot_tr_acc_mod1 = max(tr_acc_mod1_0) + max(tr_acc_mod1_1) + max(tr_acc_mod1_2)\n",
        "avg_tr_acc_mod1 = tot_tr_acc_mod1 / 3\n",
        "print(\"Avg training accuracy (\\'imagenet\\' weights): {}\".format(avg_tr_acc_mod1))\n",
        "\n",
        "print()\n",
        "\n",
        "tot_ts_acc_mod0 = max(ts_acc_mod0_0) + max(ts_acc_mod0_1) + max(ts_acc_mod0_2)\n",
        "avg_ts_acc_mod0 = tot_ts_acc_mod0 / 3\n",
        "print(\"Avg testing accuracy (random weights): {}\".format(avg_ts_acc_mod0))\n",
        "\n",
        "tot_ts_acc_mod1 = max(ts_acc_mod1_0) + max(ts_acc_mod1_1) + max(ts_acc_mod1_2)\n",
        "avg_ts_acc_mod1 = tot_ts_acc_mod1 / 3\n",
        "print(\"Avg testing accuracy (\\'imagenet\\' weights): {}\".format(avg_ts_acc_mod1))"
      ],
      "execution_count": null,
      "outputs": [
        {
          "output_type": "stream",
          "text": [
            "Avg training accuracy (random weights): 0.34172070026397705\n",
            "Avg training accuracy ('imagenet' weights): 0.9967333333333334\n",
            "\n",
            "Avg testing accuracy (random weights): 0.10714649657408397\n",
            "Avg testing accuracy ('imagenet' weights): 0.5183333333333333\n"
          ],
          "name": "stdout"
        }
      ]
    },
    {
      "cell_type": "code",
      "metadata": {
        "id": "bG8oHq6JBjvI"
      },
      "source": [
        "# Function to plot data\n",
        "\n",
        "def plotData(epochs, mod0, mod1, title):\n",
        "  plt.plot(range(epochs), mod0, 'or-', label='Random Weights')\n",
        "  plt.plot(range(epochs), mod1, 'ob-', label='ImageNet Weights')\n",
        "  plt.legend()\n",
        "  plt.xlabel('Epochs')\n",
        "  plt.ylabel('Accuracy')\n",
        "  plt.title(title)\n",
        "  plt.show()"
      ],
      "execution_count": null,
      "outputs": []
    },
    {
      "cell_type": "code",
      "metadata": {
        "id": "K37jNo06l0IT",
        "colab": {
          "base_uri": "https://localhost:8080/",
          "height": 573
        },
        "outputId": "1f855cf0-9e59-4391-e971-cca1da9a8dc5"
      },
      "source": [
        "# Plotting Mean Train and Test accuracies for Model 0 and 1\n",
        "\n",
        "epochs = 20\n",
        "\n",
        "mean_tr_acc_mod0 = np.add(np.add(tr_acc_mod0_0, tr_acc_mod0_1), tr_acc_mod0_2) / 3\n",
        "mean_tr_acc_mod1 = np.add(np.add(tr_acc_mod1_0, tr_acc_mod1_1), tr_acc_mod1_2) / 3\n",
        "\n",
        "mean_ts_acc_mod0 = np.add(np.add(ts_acc_mod0_0, ts_acc_mod0_1), ts_acc_mod0_2) / 3\n",
        "mean_ts_acc_mod1 = np.add(np.add(ts_acc_mod1_0, ts_acc_mod1_1), ts_acc_mod1_2) / 3\n",
        "\n",
        "title1 = 'Average Training Accuracy - CalTech256'\n",
        "title2 = 'Average Testing Accuracy - CalTech256'\n",
        "plotData(epochs, mean_tr_acc_mod0, mean_tr_acc_mod1, title1)\n",
        "plotData(epochs, mean_ts_acc_mod0, mean_ts_acc_mod1, title2)\n"
      ],
      "execution_count": null,
      "outputs": [
        {
          "output_type": "display_data",
          "data": {
            "image/png": "[encoded data removed]",
            "text/plain": [
              "<Figure size 432x288 with 1 Axes>"
            ]
          },
          "metadata": {
            "tags": [],
            "needs_background": "light"
          }
        },
        {
          "output_type": "display_data",
          "data": {
            "image/png": "[encoded data removed]",
            "text/plain": [
              "<Figure size 432x288 with 1 Axes>"
            ]
          },
          "metadata": {
            "tags": [],
            "needs_background": "light"
          }
        }
      ]
    }
  ]
}